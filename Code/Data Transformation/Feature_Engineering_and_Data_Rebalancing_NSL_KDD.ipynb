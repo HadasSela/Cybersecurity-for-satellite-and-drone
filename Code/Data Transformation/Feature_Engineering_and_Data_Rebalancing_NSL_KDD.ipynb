{
  "nbformat": 4,
  "nbformat_minor": 0,
  "metadata": {
    "colab": {
      "provenance": [],
      "toc_visible": true
    },
    "kernelspec": {
      "name": "python3",
      "display_name": "Python 3"
    },
    "language_info": {
      "name": "python"
    }
  },
  "cells": [
    {
      "cell_type": "markdown",
      "source": [
        "# Feature Engineering and Data Rebalancing"
      ],
      "metadata": {
        "id": "ZoEOqJj8zhL9"
      }
    },
    {
      "cell_type": "markdown",
      "source": [
        ">[Feature Engineering and Data Rebalancing](#scrollTo=ZoEOqJj8zhL9)\n",
        "\n",
        ">>[import](#scrollTo=z1DwmXfQzzPJ)\n",
        "\n",
        ">>[google drive](#scrollTo=vj-4P6eUz4K4)\n",
        "\n",
        ">>[Read the NSL-KDD dataset](#scrollTo=YNprwXhI0IC5)\n",
        "\n",
        ">>>[Transform all features that type object to int](#scrollTo=akJY2ZBZGJI_)\n",
        "\n",
        ">>[FCBF_module](#scrollTo=ZVRcbzdODXBx)\n",
        "\n",
        ">>[FCBF](#scrollTo=qS__yIjYDikI)\n",
        "\n",
        ">>[Solve class-imbalance by SMOTE](#scrollTo=JVk_qTqDE7DG)\n",
        "\n"
      ],
      "metadata": {
        "colab_type": "toc",
        "id": "y09Ku30szoxM"
      }
    },
    {
      "cell_type": "markdown",
      "source": [
        "## import"
      ],
      "metadata": {
        "id": "z1DwmXfQzzPJ"
      }
    },
    {
      "cell_type": "code",
      "execution_count": null,
      "metadata": {
        "colab": {
          "base_uri": "https://localhost:8080/"
        },
        "id": "iwL7O4fKzSaU",
        "outputId": "e224ad6f-38ae-46bc-b5e8-369e04d0ac44"
      },
      "outputs": [
        {
          "output_type": "stream",
          "name": "stdout",
          "text": [
            "Done\n"
          ]
        }
      ],
      "source": [
        "import numpy as np\n",
        "import pandas as pd\n",
        "import os\n",
        "import cv2\n",
        "import math\n",
        "import random\n",
        "import matplotlib.pyplot as plt\n",
        "import shutil\n",
        "from sklearn.preprocessing import QuantileTransformer\n",
        "from PIL import Image\n",
        "import warnings\n",
        "import csv\n",
        "from scipy.stats import entropy\n",
        "from google.colab import drive\n",
        "warnings.filterwarnings(\"ignore\")\n",
        "print(\"Done\")"
      ]
    },
    {
      "cell_type": "markdown",
      "source": [
        "##google drive"
      ],
      "metadata": {
        "id": "vj-4P6eUz4K4"
      }
    },
    {
      "cell_type": "code",
      "source": [
        "drive.mount('/content/drive',force_remount=True)"
      ],
      "metadata": {
        "colab": {
          "base_uri": "https://localhost:8080/"
        },
        "id": "BwfvHOpoz5BF",
        "outputId": "9aa2ebc7-7a4c-4985-80af-460ef4bca9dc"
      },
      "execution_count": null,
      "outputs": [
        {
          "output_type": "stream",
          "name": "stdout",
          "text": [
            "Mounted at /content/drive\n"
          ]
        }
      ]
    },
    {
      "cell_type": "code",
      "source": [
        "PROJECT_PATH= '/content/drive/MyDrive/project/data/'\n",
        "DATA='NSL-KDD'"
      ],
      "metadata": {
        "id": "764XktFA0Aas"
      },
      "execution_count": null,
      "outputs": []
    },
    {
      "cell_type": "markdown",
      "source": [
        "## Read the NSL-KDD dataset"
      ],
      "metadata": {
        "id": "YNprwXhI0IC5"
      }
    },
    {
      "cell_type": "code",
      "source": [
        "df =pd.read_csv(PROJECT_PATH+'all_data_NSL_KDD.csv')"
      ],
      "metadata": {
        "id": "N-cHgieE0NzR"
      },
      "execution_count": null,
      "outputs": []
    },
    {
      "cell_type": "code",
      "source": [
        "df.head()"
      ],
      "metadata": {
        "colab": {
          "base_uri": "https://localhost:8080/",
          "height": 366
        },
        "id": "YYwwgDyN0WcL",
        "outputId": "f29968cb-7c00-44d3-c4e9-e3276e4e5ca3"
      },
      "execution_count": null,
      "outputs": [
        {
          "output_type": "execute_result",
          "data": {
            "text/plain": [
              "   Unnamed: 0  Duration Protocol   Service Flag  Src Bytes  Dst Bytes  DoS  \\\n",
              "0           0         0      tcp  ftp_data   SF        491          0    0   \n",
              "1           1         0      udp     other   SF        146          0    0   \n",
              "2           2         0      tcp   private   S0          0          0    0   \n",
              "3           3         0      tcp      http   SF        232       8153    0   \n",
              "4           4         0      tcp      http   SF        199        420    0   \n",
              "\n",
              "   Wrong Fragment  Urgent  ...  Dst Host Same Srv Rate  \\\n",
              "0               0       0  ...                    0.17   \n",
              "1               0       0  ...                    0.00   \n",
              "2               0       0  ...                    0.10   \n",
              "3               0       0  ...                    1.00   \n",
              "4               0       0  ...                    1.00   \n",
              "\n",
              "   Dst Host Diff Srv Rate  Dst Host Same Src Port Rate  \\\n",
              "0                    0.03                         0.17   \n",
              "1                    0.60                         0.88   \n",
              "2                    0.05                         0.00   \n",
              "3                    0.00                         0.03   \n",
              "4                    0.00                         0.00   \n",
              "\n",
              "   Dst Host Srv Diff Host Rate  Dst Host Serror Rate  \\\n",
              "0                         0.00                  0.00   \n",
              "1                         0.00                  0.00   \n",
              "2                         0.00                  1.00   \n",
              "3                         0.04                  0.03   \n",
              "4                         0.00                  0.00   \n",
              "\n",
              "   Dst Host Srv Serror Rate  Dst Host Rerror Rate  Dst Host Srv Rerror Rate  \\\n",
              "0                      0.00                  0.05                      0.00   \n",
              "1                      0.00                  0.00                      0.00   \n",
              "2                      1.00                  0.00                      0.00   \n",
              "3                      0.01                  0.00                      0.01   \n",
              "4                      0.00                  0.00                      0.00   \n",
              "\n",
              "    Class  Difficulty Level  \n",
              "0  Normal                20  \n",
              "1  Normal                15  \n",
              "2     DoS                19  \n",
              "3  Normal                21  \n",
              "4  Normal                21  \n",
              "\n",
              "[5 rows x 44 columns]"
            ],
            "text/html": [
              "\n",
              "  <div id=\"df-1dbd083e-a7de-4305-b68d-69fd17680b02\">\n",
              "    <div class=\"colab-df-container\">\n",
              "      <div>\n",
              "<style scoped>\n",
              "    .dataframe tbody tr th:only-of-type {\n",
              "        vertical-align: middle;\n",
              "    }\n",
              "\n",
              "    .dataframe tbody tr th {\n",
              "        vertical-align: top;\n",
              "    }\n",
              "\n",
              "    .dataframe thead th {\n",
              "        text-align: right;\n",
              "    }\n",
              "</style>\n",
              "<table border=\"1\" class=\"dataframe\">\n",
              "  <thead>\n",
              "    <tr style=\"text-align: right;\">\n",
              "      <th></th>\n",
              "      <th>Unnamed: 0</th>\n",
              "      <th>Duration</th>\n",
              "      <th>Protocol</th>\n",
              "      <th>Service</th>\n",
              "      <th>Flag</th>\n",
              "      <th>Src Bytes</th>\n",
              "      <th>Dst Bytes</th>\n",
              "      <th>DoS</th>\n",
              "      <th>Wrong Fragment</th>\n",
              "      <th>Urgent</th>\n",
              "      <th>...</th>\n",
              "      <th>Dst Host Same Srv Rate</th>\n",
              "      <th>Dst Host Diff Srv Rate</th>\n",
              "      <th>Dst Host Same Src Port Rate</th>\n",
              "      <th>Dst Host Srv Diff Host Rate</th>\n",
              "      <th>Dst Host Serror Rate</th>\n",
              "      <th>Dst Host Srv Serror Rate</th>\n",
              "      <th>Dst Host Rerror Rate</th>\n",
              "      <th>Dst Host Srv Rerror Rate</th>\n",
              "      <th>Class</th>\n",
              "      <th>Difficulty Level</th>\n",
              "    </tr>\n",
              "  </thead>\n",
              "  <tbody>\n",
              "    <tr>\n",
              "      <th>0</th>\n",
              "      <td>0</td>\n",
              "      <td>0</td>\n",
              "      <td>tcp</td>\n",
              "      <td>ftp_data</td>\n",
              "      <td>SF</td>\n",
              "      <td>491</td>\n",
              "      <td>0</td>\n",
              "      <td>0</td>\n",
              "      <td>0</td>\n",
              "      <td>0</td>\n",
              "      <td>...</td>\n",
              "      <td>0.17</td>\n",
              "      <td>0.03</td>\n",
              "      <td>0.17</td>\n",
              "      <td>0.00</td>\n",
              "      <td>0.00</td>\n",
              "      <td>0.00</td>\n",
              "      <td>0.05</td>\n",
              "      <td>0.00</td>\n",
              "      <td>Normal</td>\n",
              "      <td>20</td>\n",
              "    </tr>\n",
              "    <tr>\n",
              "      <th>1</th>\n",
              "      <td>1</td>\n",
              "      <td>0</td>\n",
              "      <td>udp</td>\n",
              "      <td>other</td>\n",
              "      <td>SF</td>\n",
              "      <td>146</td>\n",
              "      <td>0</td>\n",
              "      <td>0</td>\n",
              "      <td>0</td>\n",
              "      <td>0</td>\n",
              "      <td>...</td>\n",
              "      <td>0.00</td>\n",
              "      <td>0.60</td>\n",
              "      <td>0.88</td>\n",
              "      <td>0.00</td>\n",
              "      <td>0.00</td>\n",
              "      <td>0.00</td>\n",
              "      <td>0.00</td>\n",
              "      <td>0.00</td>\n",
              "      <td>Normal</td>\n",
              "      <td>15</td>\n",
              "    </tr>\n",
              "    <tr>\n",
              "      <th>2</th>\n",
              "      <td>2</td>\n",
              "      <td>0</td>\n",
              "      <td>tcp</td>\n",
              "      <td>private</td>\n",
              "      <td>S0</td>\n",
              "      <td>0</td>\n",
              "      <td>0</td>\n",
              "      <td>0</td>\n",
              "      <td>0</td>\n",
              "      <td>0</td>\n",
              "      <td>...</td>\n",
              "      <td>0.10</td>\n",
              "      <td>0.05</td>\n",
              "      <td>0.00</td>\n",
              "      <td>0.00</td>\n",
              "      <td>1.00</td>\n",
              "      <td>1.00</td>\n",
              "      <td>0.00</td>\n",
              "      <td>0.00</td>\n",
              "      <td>DoS</td>\n",
              "      <td>19</td>\n",
              "    </tr>\n",
              "    <tr>\n",
              "      <th>3</th>\n",
              "      <td>3</td>\n",
              "      <td>0</td>\n",
              "      <td>tcp</td>\n",
              "      <td>http</td>\n",
              "      <td>SF</td>\n",
              "      <td>232</td>\n",
              "      <td>8153</td>\n",
              "      <td>0</td>\n",
              "      <td>0</td>\n",
              "      <td>0</td>\n",
              "      <td>...</td>\n",
              "      <td>1.00</td>\n",
              "      <td>0.00</td>\n",
              "      <td>0.03</td>\n",
              "      <td>0.04</td>\n",
              "      <td>0.03</td>\n",
              "      <td>0.01</td>\n",
              "      <td>0.00</td>\n",
              "      <td>0.01</td>\n",
              "      <td>Normal</td>\n",
              "      <td>21</td>\n",
              "    </tr>\n",
              "    <tr>\n",
              "      <th>4</th>\n",
              "      <td>4</td>\n",
              "      <td>0</td>\n",
              "      <td>tcp</td>\n",
              "      <td>http</td>\n",
              "      <td>SF</td>\n",
              "      <td>199</td>\n",
              "      <td>420</td>\n",
              "      <td>0</td>\n",
              "      <td>0</td>\n",
              "      <td>0</td>\n",
              "      <td>...</td>\n",
              "      <td>1.00</td>\n",
              "      <td>0.00</td>\n",
              "      <td>0.00</td>\n",
              "      <td>0.00</td>\n",
              "      <td>0.00</td>\n",
              "      <td>0.00</td>\n",
              "      <td>0.00</td>\n",
              "      <td>0.00</td>\n",
              "      <td>Normal</td>\n",
              "      <td>21</td>\n",
              "    </tr>\n",
              "  </tbody>\n",
              "</table>\n",
              "<p>5 rows × 44 columns</p>\n",
              "</div>\n",
              "      <button class=\"colab-df-convert\" onclick=\"convertToInteractive('df-1dbd083e-a7de-4305-b68d-69fd17680b02')\"\n",
              "              title=\"Convert this dataframe to an interactive table.\"\n",
              "              style=\"display:none;\">\n",
              "        \n",
              "  <svg xmlns=\"http://www.w3.org/2000/svg\" height=\"24px\"viewBox=\"0 0 24 24\"\n",
              "       width=\"24px\">\n",
              "    <path d=\"M0 0h24v24H0V0z\" fill=\"none\"/>\n",
              "    <path d=\"M18.56 5.44l.94 2.06.94-2.06 2.06-.94-2.06-.94-.94-2.06-.94 2.06-2.06.94zm-11 1L8.5 8.5l.94-2.06 2.06-.94-2.06-.94L8.5 2.5l-.94 2.06-2.06.94zm10 10l.94 2.06.94-2.06 2.06-.94-2.06-.94-.94-2.06-.94 2.06-2.06.94z\"/><path d=\"M17.41 7.96l-1.37-1.37c-.4-.4-.92-.59-1.43-.59-.52 0-1.04.2-1.43.59L10.3 9.45l-7.72 7.72c-.78.78-.78 2.05 0 2.83L4 21.41c.39.39.9.59 1.41.59.51 0 1.02-.2 1.41-.59l7.78-7.78 2.81-2.81c.8-.78.8-2.07 0-2.86zM5.41 20L4 18.59l7.72-7.72 1.47 1.35L5.41 20z\"/>\n",
              "  </svg>\n",
              "      </button>\n",
              "      \n",
              "  <style>\n",
              "    .colab-df-container {\n",
              "      display:flex;\n",
              "      flex-wrap:wrap;\n",
              "      gap: 12px;\n",
              "    }\n",
              "\n",
              "    .colab-df-convert {\n",
              "      background-color: #E8F0FE;\n",
              "      border: none;\n",
              "      border-radius: 50%;\n",
              "      cursor: pointer;\n",
              "      display: none;\n",
              "      fill: #1967D2;\n",
              "      height: 32px;\n",
              "      padding: 0 0 0 0;\n",
              "      width: 32px;\n",
              "    }\n",
              "\n",
              "    .colab-df-convert:hover {\n",
              "      background-color: #E2EBFA;\n",
              "      box-shadow: 0px 1px 2px rgba(60, 64, 67, 0.3), 0px 1px 3px 1px rgba(60, 64, 67, 0.15);\n",
              "      fill: #174EA6;\n",
              "    }\n",
              "\n",
              "    [theme=dark] .colab-df-convert {\n",
              "      background-color: #3B4455;\n",
              "      fill: #D2E3FC;\n",
              "    }\n",
              "\n",
              "    [theme=dark] .colab-df-convert:hover {\n",
              "      background-color: #434B5C;\n",
              "      box-shadow: 0px 1px 3px 1px rgba(0, 0, 0, 0.15);\n",
              "      filter: drop-shadow(0px 1px 2px rgba(0, 0, 0, 0.3));\n",
              "      fill: #FFFFFF;\n",
              "    }\n",
              "  </style>\n",
              "\n",
              "      <script>\n",
              "        const buttonEl =\n",
              "          document.querySelector('#df-1dbd083e-a7de-4305-b68d-69fd17680b02 button.colab-df-convert');\n",
              "        buttonEl.style.display =\n",
              "          google.colab.kernel.accessAllowed ? 'block' : 'none';\n",
              "\n",
              "        async function convertToInteractive(key) {\n",
              "          const element = document.querySelector('#df-1dbd083e-a7de-4305-b68d-69fd17680b02');\n",
              "          const dataTable =\n",
              "            await google.colab.kernel.invokeFunction('convertToInteractive',\n",
              "                                                     [key], {});\n",
              "          if (!dataTable) return;\n",
              "\n",
              "          const docLinkHtml = 'Like what you see? Visit the ' +\n",
              "            '<a target=\"_blank\" href=https://colab.research.google.com/notebooks/data_table.ipynb>data table notebook</a>'\n",
              "            + ' to learn more about interactive tables.';\n",
              "          element.innerHTML = '';\n",
              "          dataTable['output_type'] = 'display_data';\n",
              "          await google.colab.output.renderOutput(dataTable, element);\n",
              "          const docLink = document.createElement('div');\n",
              "          docLink.innerHTML = docLinkHtml;\n",
              "          element.appendChild(docLink);\n",
              "        }\n",
              "      </script>\n",
              "    </div>\n",
              "  </div>\n",
              "  "
            ]
          },
          "metadata": {},
          "execution_count": 5
        }
      ]
    },
    {
      "cell_type": "code",
      "source": [
        "df.isnull().values.any()"
      ],
      "metadata": {
        "colab": {
          "base_uri": "https://localhost:8080/"
        },
        "id": "b1MSqm2W0i5G",
        "outputId": "243df19c-9139-487a-d32b-1b117829e263"
      },
      "execution_count": null,
      "outputs": [
        {
          "output_type": "execute_result",
          "data": {
            "text/plain": [
              "False"
            ]
          },
          "metadata": {},
          "execution_count": 6
        }
      ]
    },
    {
      "cell_type": "code",
      "source": [
        "df=df.drop(['Unnamed: 0'], axis=1)"
      ],
      "metadata": {
        "id": "bmYlxH2Q0kkV"
      },
      "execution_count": null,
      "outputs": []
    },
    {
      "cell_type": "code",
      "source": [
        "df.info()"
      ],
      "metadata": {
        "colab": {
          "base_uri": "https://localhost:8080/"
        },
        "id": "5_32MDL8BdIv",
        "outputId": "86de56b9-7d4b-43a7-c127-50e4a9c09140"
      },
      "execution_count": null,
      "outputs": [
        {
          "output_type": "stream",
          "name": "stdout",
          "text": [
            "<class 'pandas.core.frame.DataFrame'>\n",
            "RangeIndex: 148517 entries, 0 to 148516\n",
            "Data columns (total 43 columns):\n",
            " #   Column                       Non-Null Count   Dtype  \n",
            "---  ------                       --------------   -----  \n",
            " 0   Duration                     148517 non-null  int64  \n",
            " 1   Protocol                     148517 non-null  object \n",
            " 2   Service                      148517 non-null  object \n",
            " 3   Flag                         148517 non-null  object \n",
            " 4   Src Bytes                    148517 non-null  int64  \n",
            " 5   Dst Bytes                    148517 non-null  int64  \n",
            " 6   DoS                          148517 non-null  int64  \n",
            " 7   Wrong Fragment               148517 non-null  int64  \n",
            " 8   Urgent                       148517 non-null  int64  \n",
            " 9   Hot                          148517 non-null  int64  \n",
            " 10  Num Failed Logins            148517 non-null  int64  \n",
            " 11  Logged In                    148517 non-null  int64  \n",
            " 12  Num Compromised              148517 non-null  int64  \n",
            " 13  Root Shell                   148517 non-null  int64  \n",
            " 14  Su Attempted                 148517 non-null  int64  \n",
            " 15  Num Root                     148517 non-null  int64  \n",
            " 16  Num File Creations           148517 non-null  int64  \n",
            " 17  Num Shells                   148517 non-null  int64  \n",
            " 18  Num Access Files             148517 non-null  int64  \n",
            " 19  Num Outbound Cmds            148517 non-null  int64  \n",
            " 20  Is Hot Logins                148517 non-null  int64  \n",
            " 21  Is Guest Login               148517 non-null  int64  \n",
            " 22  Count                        148517 non-null  int64  \n",
            " 23  Srv Count                    148517 non-null  int64  \n",
            " 24  Serror Rate                  148517 non-null  float64\n",
            " 25  Srv Serror Rate              148517 non-null  float64\n",
            " 26  Rerror Rate                  148517 non-null  float64\n",
            " 27  Srv Rerror Rate              148517 non-null  float64\n",
            " 28  Same Srv Rate                148517 non-null  float64\n",
            " 29  Diff Srv Rate                148517 non-null  float64\n",
            " 30  Srv Diff Host Rate           148517 non-null  float64\n",
            " 31  Dst Host Count               148517 non-null  int64  \n",
            " 32  Dst Host Srv Count           148517 non-null  int64  \n",
            " 33  Dst Host Same Srv Rate       148517 non-null  float64\n",
            " 34  Dst Host Diff Srv Rate       148517 non-null  float64\n",
            " 35  Dst Host Same Src Port Rate  148517 non-null  float64\n",
            " 36  Dst Host Srv Diff Host Rate  148517 non-null  float64\n",
            " 37  Dst Host Serror Rate         148517 non-null  float64\n",
            " 38  Dst Host Srv Serror Rate     148517 non-null  float64\n",
            " 39  Dst Host Rerror Rate         148517 non-null  float64\n",
            " 40  Dst Host Srv Rerror Rate     148517 non-null  float64\n",
            " 41  Class                        148517 non-null  object \n",
            " 42  Difficulty Level             148517 non-null  int64  \n",
            "dtypes: float64(15), int64(24), object(4)\n",
            "memory usage: 48.7+ MB\n"
          ]
        }
      ]
    },
    {
      "cell_type": "code",
      "source": [
        "df.shape"
      ],
      "metadata": {
        "colab": {
          "base_uri": "https://localhost:8080/"
        },
        "id": "lnYJaHDkBmmc",
        "outputId": "587f3db5-bbb7-48f6-8654-e08282f238e3"
      },
      "execution_count": null,
      "outputs": [
        {
          "output_type": "execute_result",
          "data": {
            "text/plain": [
              "(148517, 43)"
            ]
          },
          "metadata": {},
          "execution_count": 9
        }
      ]
    },
    {
      "cell_type": "markdown",
      "source": [
        "### Transform all features that type object to int"
      ],
      "metadata": {
        "id": "akJY2ZBZGJI_"
      }
    },
    {
      "cell_type": "code",
      "source": [
        "# Transform all features that type object to int\n",
        "# create dictionary {label: features}\n",
        "labels=['Protocol','Service','Flag']\n",
        "dic_features={name:df[name].unique() for name in labels}\n",
        "dic_features"
      ],
      "metadata": {
        "colab": {
          "base_uri": "https://localhost:8080/"
        },
        "id": "P-IoXwajGOEs",
        "outputId": "5a46d43a-1bcd-417c-b661-69bc62e4e8c0"
      },
      "execution_count": null,
      "outputs": [
        {
          "output_type": "execute_result",
          "data": {
            "text/plain": [
              "{'Protocol': array(['tcp', 'udp', 'icmp'], dtype=object),\n",
              " 'Service': array(['ftp_data', 'other', 'private', 'http', 'remote_job', 'name',\n",
              "        'netbios_ns', 'eco_i', 'mtp', 'telnet', 'finger', 'domain_u',\n",
              "        'supdup', 'uucp_path', 'Z39_50', 'smtp', 'csnet_ns', 'uucp',\n",
              "        'netbios_dgm', 'urp_i', 'auth', 'domain', 'ftp', 'bgp', 'ldap',\n",
              "        'ecr_i', 'gopher', 'vmnet', 'systat', 'http_443', 'efs', 'whois',\n",
              "        'R2L4', 'iso_tsap', 'echo', 'klogin', 'link', 'sunrpc', 'login',\n",
              "        'kshell', 'sql_net', 'time', 'hostnames', 'exec', 'ntp_u',\n",
              "        'discard', 'nntp', 'courier', 'ctf', 'ssh', 'daytime', 'shell',\n",
              "        'netstat', 'pop_3', 'nnsp', 'IRC', 'pop_2', 'printer', 'tim_i',\n",
              "        'pm_dump', 'red_i', 'netbios_ssn', 'rje', 'X11', 'urh_i',\n",
              "        'http_8001', 'aol', 'http_2784', 'tftp_u', 'harvest', 'imap4'],\n",
              "       dtype=object),\n",
              " 'Flag': array(['SF', 'S0', 'REJ', 'RSTR', 'SH', 'RSTO', 'S1', 'RSTOS0', 'S3',\n",
              "        'S2', 'OTH'], dtype=object)}"
            ]
          },
          "metadata": {},
          "execution_count": 17
        }
      ]
    },
    {
      "cell_type": "code",
      "source": [
        "#add columns with label of the feature.\n",
        "# if the feature appear in the row add 1 else 0\n",
        "df1=df.copy()\n",
        "for k in dic_features.keys():\n",
        "    for v in dic_features[k]:\n",
        "        df1[v]=df[k].map(lambda feature:1 if feature==v else 0 )"
      ],
      "metadata": {
        "id": "_YttUmkeGUf7"
      },
      "execution_count": null,
      "outputs": []
    },
    {
      "cell_type": "code",
      "source": [
        "df1.shape"
      ],
      "metadata": {
        "colab": {
          "base_uri": "https://localhost:8080/"
        },
        "id": "ItXXVypWGZIy",
        "outputId": "7729b071-e0e5-48c9-8ef7-70a18fcb0691"
      },
      "execution_count": null,
      "outputs": [
        {
          "output_type": "execute_result",
          "data": {
            "text/plain": [
              "(148517, 128)"
            ]
          },
          "metadata": {},
          "execution_count": 20
        }
      ]
    },
    {
      "cell_type": "code",
      "source": [
        "df=df1"
      ],
      "metadata": {
        "id": "1MgkVttcGpup"
      },
      "execution_count": null,
      "outputs": []
    },
    {
      "cell_type": "code",
      "source": [
        "label=df['Class']\n",
        "df=df.drop(['Class','Protocol','Service','Flag'],axis=1)\n",
        "X=df.copy()"
      ],
      "metadata": {
        "id": "Neni_Q4_Dqgl"
      },
      "execution_count": null,
      "outputs": []
    },
    {
      "cell_type": "code",
      "source": [
        "X.info()"
      ],
      "metadata": {
        "colab": {
          "base_uri": "https://localhost:8080/"
        },
        "id": "xD_pJfaOEG6s",
        "outputId": "0f41514a-61ae-426f-d461-ea0a688786f5"
      },
      "execution_count": null,
      "outputs": [
        {
          "output_type": "stream",
          "name": "stdout",
          "text": [
            "<class 'pandas.core.frame.DataFrame'>\n",
            "RangeIndex: 148517 entries, 0 to 148516\n",
            "Columns: 124 entries, Duration to OTH\n",
            "dtypes: float64(15), int64(109)\n",
            "memory usage: 140.5 MB\n"
          ]
        }
      ]
    },
    {
      "cell_type": "markdown",
      "source": [
        "## FCBF_module"
      ],
      "metadata": {
        "id": "ZVRcbzdODXBx"
      }
    },
    {
      "cell_type": "code",
      "source": [
        "# -*- coding: utf-8 -*-\n",
        "\n",
        "import numpy as np\n",
        "\n",
        "\n",
        "def count_vals(x):\n",
        "    _, occ = np.unique(x, return_counts=True)\n",
        "    # occ = np.zeros(shape=vals.shape)\n",
        "    # for i in range(vals.size):\n",
        "    #     occ[i] = np.sum(x == vals[i])\n",
        "    return occ\n",
        "\n",
        "\n",
        "def entropy(x):\n",
        "    n = float(x.shape[0])\n",
        "    ocurrence = count_vals(x)\n",
        "    px = ocurrence / n\n",
        "    return -1 * np.sum(px * np.log2(px))\n",
        "\n",
        "\n",
        "def symmetricalUncertain(x, y):\n",
        "    n = float(y.shape[0])\n",
        "    vals = np.unique(y)\n",
        "    # Computing Entropy for the feature x.\n",
        "    Hx = entropy(x)\n",
        "    # Computing Entropy for the feature y.\n",
        "    Hy = entropy(y)\n",
        "    # Computing Joint entropy between x and y.\n",
        "    partial = np.zeros(shape=(vals.shape[0]))\n",
        "    for i in range(vals.shape[0]):\n",
        "        partial[i] = entropy(x[y == vals[i]])\n",
        "\n",
        "    partial[np.isnan(partial) == 1] = 0\n",
        "    py = count_vals(y).astype(dtype='float64') / n\n",
        "    Hxy = np.sum(py[py > 0] * partial)\n",
        "    IG = Hx - Hxy\n",
        "    res = 2 * IG / (Hx + Hy)\n",
        "    return res\n",
        "\n",
        "\n",
        "def suGroup(x, n):\n",
        "    m = x.shape[0]\n",
        "    x = np.reshape(x, (n, m / n)).T\n",
        "    m = x.shape[1]\n",
        "    SU_matrix = np.zeros(shape=(m, m))\n",
        "    for j in range(m - 1):\n",
        "        x2 = x[:, j + 1::]\n",
        "        y = x[:, j]\n",
        "        temp = np.apply_along_axis(symmetricalUncertain, 0, x2, y)\n",
        "        for k in range(temp.shape[0]):\n",
        "            SU_matrix[j, j + 1::] = temp\n",
        "            SU_matrix[j + 1::, j] = temp\n",
        "\n",
        "    return 1 / float(m - 1) * np.sum(SU_matrix, axis=1)\n",
        "\n",
        "\n",
        "def isprime(a):\n",
        "    return all(a % i for i in range(2, a))\n",
        "\n",
        "\n",
        "\"\"\"\n",
        "get\n",
        "\"\"\"\n",
        "\n",
        "\n",
        "def get_i(a):\n",
        "    if isprime(a):\n",
        "        a -= 1\n",
        "    return filter(lambda x: a % x == 0, range(2, a))\n",
        "\n",
        "\n",
        "\"\"\"\n",
        "FCBF - Fast Correlation Based Filter\n",
        "\n",
        "L. Yu and H. Liu. Feature Selection for High‐Dimensional Data: A Fast Correlation‐Based Filter Solution.\n",
        "In Proceedings of The Twentieth International Conference on Machine Leaning (ICML‐03), 856‐863.\n",
        "Washington, D.C., August 21‐24, 2003.\n",
        "\"\"\"\n",
        "\n",
        "\n",
        "class FCBF:\n",
        "    idx_sel = []\n",
        "\n",
        "    def __init__(self, th=0.01):\n",
        "        '''\n",
        "        Parameters\n",
        "        ---------------\n",
        "            th = The initial threshold\n",
        "        '''\n",
        "        self.th = th\n",
        "\n",
        "    def fit(self, x, y):\n",
        "        '''\n",
        "        This function executes FCBF algorithm and saves indexes\n",
        "        of selected features in self.idx_sel\n",
        "\n",
        "        Parameters\n",
        "        ---------------\n",
        "            x = dataset  [NxM]\n",
        "            y = label    [Nx1]\n",
        "        '''\n",
        "        self.idx_sel = []\n",
        "        \"\"\"\n",
        "        First Stage: Computing the SU for each feature with the response.\n",
        "        \"\"\"\n",
        "        SU_vec = np.apply_along_axis(symmetricalUncertain, 0, x, y)\n",
        "        SU_list = SU_vec[SU_vec > self.th]\n",
        "        SU_list[::-1].sort()\n",
        "\n",
        "        m = x[:, SU_vec > self.th].shape\n",
        "        x_sorted = np.zeros(shape=m)\n",
        "\n",
        "        for i in range(m[1]):\n",
        "            ind = np.argmax(SU_vec)\n",
        "            SU_vec[ind] = 0\n",
        "            x_sorted[:, i] = x[:, ind].copy()\n",
        "            self.idx_sel.append(ind)\n",
        "\n",
        "        \"\"\"\n",
        "        Second Stage: Identify relationships between feature to remove redundancy.\n",
        "        \"\"\"\n",
        "        j = 0\n",
        "        while True:\n",
        "            \"\"\"\n",
        "            Stopping Criteria:The search finishes\n",
        "            \"\"\"\n",
        "            if j >= x_sorted.shape[1]: break\n",
        "            y = x_sorted[:, j].copy()\n",
        "            x_list = x_sorted[:, j + 1:].copy()\n",
        "            if x_list.shape[1] == 0: break\n",
        "\n",
        "            SU_list_2 = SU_list[j + 1:]\n",
        "            SU_x = np.apply_along_axis(symmetricalUncertain, 0,\n",
        "                                       x_list, y)\n",
        "\n",
        "            comp_SU = SU_x >= SU_list_2\n",
        "            to_remove = np.where(comp_SU)[0] + j + 1\n",
        "            if to_remove.size > 0:\n",
        "                x_sorted = np.delete(x_sorted, to_remove, axis=1)\n",
        "                SU_list = np.delete(SU_list, to_remove, axis=0)\n",
        "                to_remove.sort()\n",
        "                for r in reversed(to_remove):\n",
        "                    self.idx_sel.remove(self.idx_sel[r])\n",
        "            j = j + 1\n",
        "\n",
        "    def fit_transform(self, x, y):\n",
        "        '''\n",
        "        This function fits the feature selection\n",
        "        algorithm and returns the resulting subset.\n",
        "\n",
        "        Parameters\n",
        "        ---------------\n",
        "            x = dataset  [NxM]\n",
        "            y = label    [Nx1]\n",
        "        '''\n",
        "        self.fit(x, y)\n",
        "        return x[:, self.idx_sel]\n",
        "\n",
        "    def transform(self, x):\n",
        "        '''\n",
        "        This function applies the selection\n",
        "        to the vector x.\n",
        "\n",
        "        Parameters\n",
        "        ---------------\n",
        "            x = dataset  [NxM]\n",
        "        '''\n",
        "        return x[:, self.idx_sel]\n",
        "\n",
        "\n",
        "\"\"\"\n",
        "FCBF# - Fast Correlation Based Filter\n",
        "B. Senliol, G. Gulgezen, et al. Fast Correlation Based Filter (FCBF) with a Different Search Strategy.\n",
        "In Computer and Information Sciences (ISCIS ‘08) 23rd International Symposium on, pages 1‐4.\n",
        "Istanbul, October 27‐29, 2008.\n",
        "\"\"\"\n",
        "\n",
        "\n",
        "class FCBFK(FCBF):\n",
        "    idx_sel = []\n",
        "\n",
        "    def __init__(self, k=10):\n",
        "        '''\n",
        "        Parameters\n",
        "        ---------------\n",
        "            k = Number of features to include in the\n",
        "            subset.\n",
        "        '''\n",
        "        self.k = k\n",
        "\n",
        "    def fit(self, x, y):\n",
        "        '''\n",
        "        This function executes FCBFK algorithm and saves indexes\n",
        "        of selected features in self.idx_sel\n",
        "\n",
        "        Parameters\n",
        "        ---------------\n",
        "            x = dataset  [NxM]\n",
        "            y = label    [Nx1]\n",
        "        '''\n",
        "        self.idx_sel = []\n",
        "        \"\"\"\n",
        "        First Stage: Computing the SU for each feature with the response.\n",
        "        \"\"\"\n",
        "        SU_vec = np.apply_along_axis(symmetricalUncertain, 0, x, y)\n",
        "\n",
        "        SU_list = SU_vec[SU_vec > 0]\n",
        "        SU_list[::-1].sort()\n",
        "\n",
        "        m = x[:, SU_vec > 0].shape\n",
        "        x_sorted = np.zeros(shape=m)\n",
        "\n",
        "        for i in range(m[1]):\n",
        "            ind = np.argmax(SU_vec)\n",
        "            SU_vec[ind] = 0\n",
        "            x_sorted[:, i] = x[:, ind].copy()\n",
        "            self.idx_sel.append(ind)\n",
        "\n",
        "        \"\"\"\n",
        "        Second Stage: Identify relationships between features to remove redundancy with stopping\n",
        "        criteria (features in x_best == k).\n",
        "        \"\"\"\n",
        "        j = 0\n",
        "        while True:\n",
        "            y = x_sorted[:, j].copy()\n",
        "            SU_list_2 = SU_list[j + 1:]\n",
        "            x_list = x_sorted[:, j + 1:].copy()\n",
        "\n",
        "            \"\"\"\n",
        "            Stopping Criteria:The search finishes\n",
        "            \"\"\"\n",
        "            if x_list.shape[1] == 0: break\n",
        "\n",
        "            SU_x = np.apply_along_axis(symmetricalUncertain, 0,\n",
        "                                       x_list, y)\n",
        "\n",
        "            comp_SU = SU_x >= SU_list_2\n",
        "            to_remove = np.where(comp_SU)[0] + j + 1\n",
        "            if to_remove.size > 0 and x.shape[1] > self.k:\n",
        "\n",
        "                for i in reversed(to_remove):\n",
        "\n",
        "                    x_sorted = np.delete(x_sorted, i, axis=1)\n",
        "                    SU_list = np.delete(SU_list, i, axis=0)\n",
        "                    self.idx_sel.remove(self.idx_sel[i])\n",
        "                    if x_sorted.shape[1] == self.k: break\n",
        "\n",
        "            if x_list.shape[1] == 1 or x_sorted.shape[1] == self.k:\n",
        "                break\n",
        "            j = j + 1\n",
        "\n",
        "        if len(self.idx_sel) > self.k:\n",
        "            self.idx_sel = self.idx_sel[:self.k]\n",
        "\n",
        "\n",
        "\"\"\"\n",
        "FCBFiP - Fast Correlation Based Filter in Pieces\n",
        "\"\"\"\n",
        "\n",
        "\n",
        "class FCBFiP(FCBF):\n",
        "    idx_sel = []\n",
        "\n",
        "    def __init__(self, k=10, npieces=2):\n",
        "        '''\n",
        "        Parameters\n",
        "        ---------------\n",
        "            k = Number of features to include in the\n",
        "            subset.\n",
        "            npieces = Number of pieces to divide the\n",
        "            feature space.\n",
        "        '''\n",
        "        self.k = k\n",
        "        self.npieces = npieces\n",
        "\n",
        "    def fit(self, x, y):\n",
        "        '''\n",
        "        This function executes FCBF algorithm and saves indexes\n",
        "        of selected features in self.idx_sel\n",
        "\n",
        "        Parameters\n",
        "        ---------------\n",
        "            x = dataset  [NxM]\n",
        "            y = label    [Nx1]\n",
        "        '''\n",
        "\n",
        "        \"\"\"\n",
        "        First Stage: Computing the SU for each feature with the response. We sort the\n",
        "        features. When we have a prime number of features we remove the last one from the\n",
        "        sorted features list.\n",
        "        \"\"\"\n",
        "        m = x.shape\n",
        "        nfeaturesPieces = int(m[1] / float(self.npieces))\n",
        "        SU_vec = np.apply_along_axis(symmetricalUncertain, 0, x, y)\n",
        "\n",
        "        x_sorted = np.zeros(shape=m, dtype='float64')\n",
        "        idx_sorted = np.zeros(shape=m[1], dtype='int64')\n",
        "        for i in range(m[1]):\n",
        "            ind = np.argmax(SU_vec)\n",
        "            SU_vec[ind] = -1\n",
        "            idx_sorted[i] = ind\n",
        "            x_sorted[:, i] = x[:, ind].copy()\n",
        "\n",
        "        if isprime(m[1]):\n",
        "            x_sorted = np.delete(x_sorted, m[1] - 1, axis=1)\n",
        "            ind_prime = idx_sorted[m[1] - 1]\n",
        "            idx_sorted = np.delete(idx_sorted, m[1] - 1)\n",
        "            # m = x_sorted.shape\n",
        "        \"\"\"\n",
        "        Second Stage: Identify relationships between features into its vecinity\n",
        "        to remove redundancy with stopping criteria (features in x_best == k).\n",
        "        \"\"\"\n",
        "\n",
        "        x_2d = np.reshape(x_sorted.T, (self.npieces, nfeaturesPieces * m[0])).T\n",
        "\n",
        "        SU_x = np.apply_along_axis(suGroup, 0, x_2d, nfeaturesPieces)\n",
        "        SU_x = np.reshape(SU_x.T, (self.npieces * nfeaturesPieces,))\n",
        "        idx_sorted2 = np.zeros(shape=idx_sorted.shape, dtype='int64')\n",
        "        SU_x[np.isnan(SU_x)] = 1\n",
        "\n",
        "        for i in range(idx_sorted.shape[0]):\n",
        "            ind = np.argmin(SU_x)\n",
        "            idx_sorted2[i] = idx_sorted[ind]\n",
        "            SU_x[ind] = 10\n",
        "\n",
        "        \"\"\"\n",
        "        Scoring step\n",
        "        \"\"\"\n",
        "        self.scores = np.zeros(shape=m[1], dtype='int64')\n",
        "\n",
        "        for i in range(m[1]):\n",
        "            if i in idx_sorted:\n",
        "                self.scores[i] = np.argwhere(i == idx_sorted) + np.argwhere(i == idx_sorted2)\n",
        "        if isprime(m[1]):\n",
        "            self.scores[ind_prime] = 2 * m[1]\n",
        "        self.set_k(self.k)\n",
        "\n",
        "    def set_k(self, k):\n",
        "        self.k = k\n",
        "        scores_temp = -1 * self.scores\n",
        "\n",
        "        self.idx_sel = np.zeros(shape=self.k, dtype='int64')\n",
        "        for i in range(self.k):\n",
        "            ind = np.argmax(scores_temp)\n",
        "            scores_temp[ind] = -100000000\n",
        "            self.idx_sel[i] = ind\n"
      ],
      "metadata": {
        "id": "1iBZSu5dDciA"
      },
      "execution_count": null,
      "outputs": []
    },
    {
      "cell_type": "markdown",
      "source": [
        "## FCBF"
      ],
      "metadata": {
        "id": "qS__yIjYDikI"
      }
    },
    {
      "cell_type": "code",
      "source": [
        "X=X.to_numpy()"
      ],
      "metadata": {
        "id": "-I3yq9MFJnkx"
      },
      "execution_count": null,
      "outputs": []
    },
    {
      "cell_type": "code",
      "source": [
        "fcbf = FCBFK(k = 25)\n",
        "\n",
        "fcbf.fit(X,label)"
      ],
      "metadata": {
        "id": "aa2G5YnqHGdf"
      },
      "execution_count": null,
      "outputs": []
    },
    {
      "cell_type": "code",
      "source": [
        "idx=sorted(fcbf.idx_sel)"
      ],
      "metadata": {
        "id": "1p-1lM99EQ75"
      },
      "execution_count": null,
      "outputs": []
    },
    {
      "cell_type": "code",
      "source": [
        "idx"
      ],
      "metadata": {
        "colab": {
          "base_uri": "https://localhost:8080/"
        },
        "id": "s5TOYcC9Ks6y",
        "outputId": "dcf8cdf8-40ad-4d4f-d0d1-1a50f82f4d2c"
      },
      "execution_count": null,
      "outputs": [
        {
          "output_type": "execute_result",
          "data": {
            "text/plain": [
              "[1,\n",
              " 2,\n",
              " 5,\n",
              " 7,\n",
              " 10,\n",
              " 14,\n",
              " 17,\n",
              " 18,\n",
              " 26,\n",
              " 27,\n",
              " 32,\n",
              " 33,\n",
              " 38,\n",
              " 45,\n",
              " 49,\n",
              " 64,\n",
              " 95,\n",
              " 107,\n",
              " 108,\n",
              " 109,\n",
              " 111,\n",
              " 112,\n",
              " 113,\n",
              " 117,\n",
              " 123]"
            ]
          },
          "metadata": {},
          "execution_count": 38
        }
      ]
    },
    {
      "cell_type": "code",
      "source": [
        "X_fss=X[:, idx]"
      ],
      "metadata": {
        "id": "uFxj-UUxHsyi"
      },
      "execution_count": null,
      "outputs": []
    },
    {
      "cell_type": "code",
      "source": [
        "X_fss.shape"
      ],
      "metadata": {
        "colab": {
          "base_uri": "https://localhost:8080/"
        },
        "id": "KKYNC5DwIW4w",
        "outputId": "7977d0c6-8e38-4048-9217-d3b73f573f56"
      },
      "execution_count": null,
      "outputs": [
        {
          "output_type": "execute_result",
          "data": {
            "text/plain": [
              "(148517, 25)"
            ]
          },
          "metadata": {},
          "execution_count": 40
        }
      ]
    },
    {
      "cell_type": "code",
      "source": [
        "features = np.array(df.columns)"
      ],
      "metadata": {
        "id": "f1UjIEQ7en8l"
      },
      "execution_count": null,
      "outputs": []
    },
    {
      "cell_type": "code",
      "source": [
        "features1=features[idx]"
      ],
      "metadata": {
        "id": "VvATTpKpb_y4"
      },
      "execution_count": null,
      "outputs": []
    },
    {
      "cell_type": "code",
      "source": [
        "features1"
      ],
      "metadata": {
        "colab": {
          "base_uri": "https://localhost:8080/"
        },
        "id": "sX4iI15scIqI",
        "outputId": "b6913142-fe57-4bbb-f63d-83cee383c259"
      },
      "execution_count": null,
      "outputs": [
        {
          "output_type": "execute_result",
          "data": {
            "text/plain": [
              "array(['Src Bytes', 'Dst Bytes', 'Urgent', 'Num Failed Logins',\n",
              "       'Root Shell', 'Num Shells', 'Is Hot Logins', 'Is Guest Login',\n",
              "       'Diff Srv Rate', 'Srv Diff Host Rate',\n",
              "       'Dst Host Same Src Port Rate', 'Dst Host Srv Diff Host Rate',\n",
              "       'Difficulty Level', 'http', 'eco_i', 'ftp', 'pop_3', 'http_8001',\n",
              "       'aol', 'http_2784', 'harvest', 'imap4', 'SF', 'SH', 'OTH'],\n",
              "      dtype=object)"
            ]
          },
          "metadata": {},
          "execution_count": 44
        }
      ]
    },
    {
      "cell_type": "code",
      "source": [
        "X_imbalance = pd.DataFrame(X_fss, columns = features1)"
      ],
      "metadata": {
        "id": "xQtIUu_na6mR"
      },
      "execution_count": null,
      "outputs": []
    },
    {
      "cell_type": "markdown",
      "source": [
        "## Solve class-imbalance by SMOTE"
      ],
      "metadata": {
        "id": "JVk_qTqDE7DG"
      }
    },
    {
      "cell_type": "code",
      "source": [
        "from imblearn.over_sampling import SMOTE\n",
        "from collections import Counter"
      ],
      "metadata": {
        "id": "vRStQBUYFJPz"
      },
      "execution_count": null,
      "outputs": []
    },
    {
      "cell_type": "code",
      "source": [
        "print('Resampled dataset shape %s' % Counter(label))"
      ],
      "metadata": {
        "colab": {
          "base_uri": "https://localhost:8080/"
        },
        "id": "Hfd1Tu39FJ68",
        "outputId": "56ab19a8-462b-4c30-a584-d50a20c43a22"
      },
      "execution_count": null,
      "outputs": [
        {
          "output_type": "stream",
          "name": "stdout",
          "text": [
            "Resampled dataset shape Counter({'Normal': 77054, 'DoS': 53385, 'Probe': 13936, 'R2L': 3880, 'U2R': 262})\n"
          ]
        }
      ]
    },
    {
      "cell_type": "code",
      "source": [
        "\n",
        "\n",
        "smote=SMOTE(n_jobs=-1,sampling_strategy={'Normal': 77054, 'DoS': 53385, 'Probe': 50000, 'R2L': 50000, 'U2R': 50000})\n",
        "# smote=SMOTE(n_jobs=-1)\n",
        "X_train, y_train = smote.fit_resample(X_imbalance, label)"
      ],
      "metadata": {
        "id": "6lJk4HA7E6LK"
      },
      "execution_count": null,
      "outputs": []
    },
    {
      "cell_type": "code",
      "source": [
        "print('Resampled dataset shape %s' % Counter(y_train))"
      ],
      "metadata": {
        "colab": {
          "base_uri": "https://localhost:8080/"
        },
        "id": "Un0yoSr3LlS7",
        "outputId": "e84c67ed-99cf-49fb-f9db-60b1d55e7899"
      },
      "execution_count": null,
      "outputs": [
        {
          "output_type": "stream",
          "name": "stdout",
          "text": [
            "Resampled dataset shape Counter({'Normal': 77054, 'DoS': 53385, 'R2L': 50000, 'Probe': 50000, 'U2R': 50000})\n"
          ]
        }
      ]
    },
    {
      "cell_type": "code",
      "source": [
        "X_train['Class']=y_train"
      ],
      "metadata": {
        "id": "7EUVnvTVMCBt"
      },
      "execution_count": null,
      "outputs": []
    },
    {
      "cell_type": "code",
      "source": [
        "X_train.head()"
      ],
      "metadata": {
        "colab": {
          "base_uri": "https://localhost:8080/",
          "height": 297
        },
        "id": "ANAMqFvtMP48",
        "outputId": "e7e2877d-3429-4be5-a51a-ff680cbdd446"
      },
      "execution_count": null,
      "outputs": [
        {
          "output_type": "execute_result",
          "data": {
            "text/plain": [
              "   Src Bytes  Dst Bytes  Urgent  Num Failed Logins  Root Shell  Num Shells  \\\n",
              "0      491.0        0.0     0.0                0.0         0.0         0.0   \n",
              "1      146.0        0.0     0.0                0.0         0.0         0.0   \n",
              "2        0.0        0.0     0.0                0.0         0.0         0.0   \n",
              "3      232.0     8153.0     0.0                0.0         0.0         0.0   \n",
              "4      199.0      420.0     0.0                0.0         0.0         0.0   \n",
              "\n",
              "   Is Hot Logins  Is Guest Login  Diff Srv Rate  Srv Diff Host Rate  ...  \\\n",
              "0            0.0             0.0           0.00                0.00  ...   \n",
              "1            0.0             0.0           0.15                0.00  ...   \n",
              "2            0.0             0.0           0.07                0.00  ...   \n",
              "3            0.0             0.0           0.00                0.00  ...   \n",
              "4            0.0             0.0           0.00                0.09  ...   \n",
              "\n",
              "   pop_3  http_8001  aol  http_2784  harvest  imap4   SF   SH  OTH   Class  \n",
              "0    0.0        0.0  0.0        0.0      0.0    0.0  1.0  0.0  0.0  Normal  \n",
              "1    0.0        0.0  0.0        0.0      0.0    0.0  1.0  0.0  0.0  Normal  \n",
              "2    0.0        0.0  0.0        0.0      0.0    0.0  0.0  0.0  0.0     DoS  \n",
              "3    0.0        0.0  0.0        0.0      0.0    0.0  1.0  0.0  0.0  Normal  \n",
              "4    0.0        0.0  0.0        0.0      0.0    0.0  1.0  0.0  0.0  Normal  \n",
              "\n",
              "[5 rows x 26 columns]"
            ],
            "text/html": [
              "\n",
              "  <div id=\"df-18c64f30-77a4-4ed8-98d5-c2c9c0614abf\">\n",
              "    <div class=\"colab-df-container\">\n",
              "      <div>\n",
              "<style scoped>\n",
              "    .dataframe tbody tr th:only-of-type {\n",
              "        vertical-align: middle;\n",
              "    }\n",
              "\n",
              "    .dataframe tbody tr th {\n",
              "        vertical-align: top;\n",
              "    }\n",
              "\n",
              "    .dataframe thead th {\n",
              "        text-align: right;\n",
              "    }\n",
              "</style>\n",
              "<table border=\"1\" class=\"dataframe\">\n",
              "  <thead>\n",
              "    <tr style=\"text-align: right;\">\n",
              "      <th></th>\n",
              "      <th>Src Bytes</th>\n",
              "      <th>Dst Bytes</th>\n",
              "      <th>Urgent</th>\n",
              "      <th>Num Failed Logins</th>\n",
              "      <th>Root Shell</th>\n",
              "      <th>Num Shells</th>\n",
              "      <th>Is Hot Logins</th>\n",
              "      <th>Is Guest Login</th>\n",
              "      <th>Diff Srv Rate</th>\n",
              "      <th>Srv Diff Host Rate</th>\n",
              "      <th>...</th>\n",
              "      <th>pop_3</th>\n",
              "      <th>http_8001</th>\n",
              "      <th>aol</th>\n",
              "      <th>http_2784</th>\n",
              "      <th>harvest</th>\n",
              "      <th>imap4</th>\n",
              "      <th>SF</th>\n",
              "      <th>SH</th>\n",
              "      <th>OTH</th>\n",
              "      <th>Class</th>\n",
              "    </tr>\n",
              "  </thead>\n",
              "  <tbody>\n",
              "    <tr>\n",
              "      <th>0</th>\n",
              "      <td>491.0</td>\n",
              "      <td>0.0</td>\n",
              "      <td>0.0</td>\n",
              "      <td>0.0</td>\n",
              "      <td>0.0</td>\n",
              "      <td>0.0</td>\n",
              "      <td>0.0</td>\n",
              "      <td>0.0</td>\n",
              "      <td>0.00</td>\n",
              "      <td>0.00</td>\n",
              "      <td>...</td>\n",
              "      <td>0.0</td>\n",
              "      <td>0.0</td>\n",
              "      <td>0.0</td>\n",
              "      <td>0.0</td>\n",
              "      <td>0.0</td>\n",
              "      <td>0.0</td>\n",
              "      <td>1.0</td>\n",
              "      <td>0.0</td>\n",
              "      <td>0.0</td>\n",
              "      <td>Normal</td>\n",
              "    </tr>\n",
              "    <tr>\n",
              "      <th>1</th>\n",
              "      <td>146.0</td>\n",
              "      <td>0.0</td>\n",
              "      <td>0.0</td>\n",
              "      <td>0.0</td>\n",
              "      <td>0.0</td>\n",
              "      <td>0.0</td>\n",
              "      <td>0.0</td>\n",
              "      <td>0.0</td>\n",
              "      <td>0.15</td>\n",
              "      <td>0.00</td>\n",
              "      <td>...</td>\n",
              "      <td>0.0</td>\n",
              "      <td>0.0</td>\n",
              "      <td>0.0</td>\n",
              "      <td>0.0</td>\n",
              "      <td>0.0</td>\n",
              "      <td>0.0</td>\n",
              "      <td>1.0</td>\n",
              "      <td>0.0</td>\n",
              "      <td>0.0</td>\n",
              "      <td>Normal</td>\n",
              "    </tr>\n",
              "    <tr>\n",
              "      <th>2</th>\n",
              "      <td>0.0</td>\n",
              "      <td>0.0</td>\n",
              "      <td>0.0</td>\n",
              "      <td>0.0</td>\n",
              "      <td>0.0</td>\n",
              "      <td>0.0</td>\n",
              "      <td>0.0</td>\n",
              "      <td>0.0</td>\n",
              "      <td>0.07</td>\n",
              "      <td>0.00</td>\n",
              "      <td>...</td>\n",
              "      <td>0.0</td>\n",
              "      <td>0.0</td>\n",
              "      <td>0.0</td>\n",
              "      <td>0.0</td>\n",
              "      <td>0.0</td>\n",
              "      <td>0.0</td>\n",
              "      <td>0.0</td>\n",
              "      <td>0.0</td>\n",
              "      <td>0.0</td>\n",
              "      <td>DoS</td>\n",
              "    </tr>\n",
              "    <tr>\n",
              "      <th>3</th>\n",
              "      <td>232.0</td>\n",
              "      <td>8153.0</td>\n",
              "      <td>0.0</td>\n",
              "      <td>0.0</td>\n",
              "      <td>0.0</td>\n",
              "      <td>0.0</td>\n",
              "      <td>0.0</td>\n",
              "      <td>0.0</td>\n",
              "      <td>0.00</td>\n",
              "      <td>0.00</td>\n",
              "      <td>...</td>\n",
              "      <td>0.0</td>\n",
              "      <td>0.0</td>\n",
              "      <td>0.0</td>\n",
              "      <td>0.0</td>\n",
              "      <td>0.0</td>\n",
              "      <td>0.0</td>\n",
              "      <td>1.0</td>\n",
              "      <td>0.0</td>\n",
              "      <td>0.0</td>\n",
              "      <td>Normal</td>\n",
              "    </tr>\n",
              "    <tr>\n",
              "      <th>4</th>\n",
              "      <td>199.0</td>\n",
              "      <td>420.0</td>\n",
              "      <td>0.0</td>\n",
              "      <td>0.0</td>\n",
              "      <td>0.0</td>\n",
              "      <td>0.0</td>\n",
              "      <td>0.0</td>\n",
              "      <td>0.0</td>\n",
              "      <td>0.00</td>\n",
              "      <td>0.09</td>\n",
              "      <td>...</td>\n",
              "      <td>0.0</td>\n",
              "      <td>0.0</td>\n",
              "      <td>0.0</td>\n",
              "      <td>0.0</td>\n",
              "      <td>0.0</td>\n",
              "      <td>0.0</td>\n",
              "      <td>1.0</td>\n",
              "      <td>0.0</td>\n",
              "      <td>0.0</td>\n",
              "      <td>Normal</td>\n",
              "    </tr>\n",
              "  </tbody>\n",
              "</table>\n",
              "<p>5 rows × 26 columns</p>\n",
              "</div>\n",
              "      <button class=\"colab-df-convert\" onclick=\"convertToInteractive('df-18c64f30-77a4-4ed8-98d5-c2c9c0614abf')\"\n",
              "              title=\"Convert this dataframe to an interactive table.\"\n",
              "              style=\"display:none;\">\n",
              "        \n",
              "  <svg xmlns=\"http://www.w3.org/2000/svg\" height=\"24px\"viewBox=\"0 0 24 24\"\n",
              "       width=\"24px\">\n",
              "    <path d=\"M0 0h24v24H0V0z\" fill=\"none\"/>\n",
              "    <path d=\"M18.56 5.44l.94 2.06.94-2.06 2.06-.94-2.06-.94-.94-2.06-.94 2.06-2.06.94zm-11 1L8.5 8.5l.94-2.06 2.06-.94-2.06-.94L8.5 2.5l-.94 2.06-2.06.94zm10 10l.94 2.06.94-2.06 2.06-.94-2.06-.94-.94-2.06-.94 2.06-2.06.94z\"/><path d=\"M17.41 7.96l-1.37-1.37c-.4-.4-.92-.59-1.43-.59-.52 0-1.04.2-1.43.59L10.3 9.45l-7.72 7.72c-.78.78-.78 2.05 0 2.83L4 21.41c.39.39.9.59 1.41.59.51 0 1.02-.2 1.41-.59l7.78-7.78 2.81-2.81c.8-.78.8-2.07 0-2.86zM5.41 20L4 18.59l7.72-7.72 1.47 1.35L5.41 20z\"/>\n",
              "  </svg>\n",
              "      </button>\n",
              "      \n",
              "  <style>\n",
              "    .colab-df-container {\n",
              "      display:flex;\n",
              "      flex-wrap:wrap;\n",
              "      gap: 12px;\n",
              "    }\n",
              "\n",
              "    .colab-df-convert {\n",
              "      background-color: #E8F0FE;\n",
              "      border: none;\n",
              "      border-radius: 50%;\n",
              "      cursor: pointer;\n",
              "      display: none;\n",
              "      fill: #1967D2;\n",
              "      height: 32px;\n",
              "      padding: 0 0 0 0;\n",
              "      width: 32px;\n",
              "    }\n",
              "\n",
              "    .colab-df-convert:hover {\n",
              "      background-color: #E2EBFA;\n",
              "      box-shadow: 0px 1px 2px rgba(60, 64, 67, 0.3), 0px 1px 3px 1px rgba(60, 64, 67, 0.15);\n",
              "      fill: #174EA6;\n",
              "    }\n",
              "\n",
              "    [theme=dark] .colab-df-convert {\n",
              "      background-color: #3B4455;\n",
              "      fill: #D2E3FC;\n",
              "    }\n",
              "\n",
              "    [theme=dark] .colab-df-convert:hover {\n",
              "      background-color: #434B5C;\n",
              "      box-shadow: 0px 1px 3px 1px rgba(0, 0, 0, 0.15);\n",
              "      filter: drop-shadow(0px 1px 2px rgba(0, 0, 0, 0.3));\n",
              "      fill: #FFFFFF;\n",
              "    }\n",
              "  </style>\n",
              "\n",
              "      <script>\n",
              "        const buttonEl =\n",
              "          document.querySelector('#df-18c64f30-77a4-4ed8-98d5-c2c9c0614abf button.colab-df-convert');\n",
              "        buttonEl.style.display =\n",
              "          google.colab.kernel.accessAllowed ? 'block' : 'none';\n",
              "\n",
              "        async function convertToInteractive(key) {\n",
              "          const element = document.querySelector('#df-18c64f30-77a4-4ed8-98d5-c2c9c0614abf');\n",
              "          const dataTable =\n",
              "            await google.colab.kernel.invokeFunction('convertToInteractive',\n",
              "                                                     [key], {});\n",
              "          if (!dataTable) return;\n",
              "\n",
              "          const docLinkHtml = 'Like what you see? Visit the ' +\n",
              "            '<a target=\"_blank\" href=https://colab.research.google.com/notebooks/data_table.ipynb>data table notebook</a>'\n",
              "            + ' to learn more about interactive tables.';\n",
              "          element.innerHTML = '';\n",
              "          dataTable['output_type'] = 'display_data';\n",
              "          await google.colab.output.renderOutput(dataTable, element);\n",
              "          const docLink = document.createElement('div');\n",
              "          docLink.innerHTML = docLinkHtml;\n",
              "          element.appendChild(docLink);\n",
              "        }\n",
              "      </script>\n",
              "    </div>\n",
              "  </div>\n",
              "  "
            ]
          },
          "metadata": {},
          "execution_count": 51
        }
      ]
    },
    {
      "cell_type": "code",
      "source": [
        "X_train.to_csv(PROJECT_PATH+'/data25_NSL_KDD.csv')"
      ],
      "metadata": {
        "id": "6BLTTCtEPi1y"
      },
      "execution_count": null,
      "outputs": []
    }
  ]
}