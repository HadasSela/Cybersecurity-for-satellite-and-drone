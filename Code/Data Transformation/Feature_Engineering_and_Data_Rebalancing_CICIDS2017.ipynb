{
  "cells": [
    {
      "cell_type": "markdown",
      "metadata": {
        "id": "zftwMhm78Nd-"
      },
      "source": [
        "# Feature Engineering and Data Rebalancing"
      ]
    },
    {
      "cell_type": "markdown",
      "metadata": {
        "colab_type": "toc",
        "id": "Uup2ljGE8U4U"
      },
      "source": [
        ">[Feature Engineering and Data Rebalancing](#scrollTo=zftwMhm78Nd-)\n",
        "\n",
        ">>[import](#scrollTo=NISkXWSA8QhI)\n",
        "\n",
        ">>[google drive](#scrollTo=t7Zwtq0Y_ixE)\n",
        "\n",
        ">>[Read the CICIDS2017 dataset](#scrollTo=RMWmGOak8qDH)\n",
        "\n",
        ">>[calculate the sum of importance scores](#scrollTo=GwdTm08-Dmez)\n",
        "\n",
        ">>[select the important features from top to bottom until the accumulated importance reaches 90%](#scrollTo=iXnHvYbDD5sM)\n",
        "\n",
        ">>[FCBF_module](#scrollTo=xrudBuAZAz0s)\n",
        "\n",
        ">>[FCBF](#scrollTo=vto7UgJ8BiVU)\n",
        "\n",
        ">>[Train-test split after feature selection](#scrollTo=SQpABuq9DPNK)\n",
        "\n",
        ">>[Solve class-imbalance by SMOTE](#scrollTo=Cr6RhtFkDa8B)\n",
        "\n",
        ">>[Solve class-imbalance by TomekLinks](#scrollTo=5rcvZqWmc5H-)\n",
        "\n"
      ]
    },
    {
      "cell_type": "markdown",
      "metadata": {
        "id": "NISkXWSA8QhI"
      },
      "source": [
        "## import"
      ]
    },
    {
      "cell_type": "code",
      "execution_count": null,
      "metadata": {
        "colab": {
          "base_uri": "https://localhost:8080/"
        },
        "id": "6SHMjJF37_ys",
        "outputId": "a7a0e851-0997-40dc-f401-9d8a3d149a52"
      },
      "outputs": [
        {
          "output_type": "stream",
          "name": "stdout",
          "text": [
            "Done\n"
          ]
        }
      ],
      "source": [
        "import numpy as np\n",
        "import pandas as pd\n",
        "import os\n",
        "import cv2\n",
        "import math\n",
        "import random\n",
        "import matplotlib.pyplot as plt\n",
        "import shutil\n",
        "from sklearn.preprocessing import QuantileTransformer\n",
        "from PIL import Image\n",
        "import warnings\n",
        "import csv\n",
        "from scipy.stats import entropy\n",
        "from google.colab import drive\n",
        "warnings.filterwarnings(\"ignore\")\n",
        "print(\"Done\")"
      ]
    },
    {
      "cell_type": "markdown",
      "metadata": {
        "id": "t7Zwtq0Y_ixE"
      },
      "source": [
        "##google drive"
      ]
    },
    {
      "cell_type": "code",
      "execution_count": null,
      "metadata": {
        "colab": {
          "base_uri": "https://localhost:8080/"
        },
        "id": "rakTHKAw_jxP",
        "outputId": "5ef22877-b484-4d10-aaed-ca4c3845e741"
      },
      "outputs": [
        {
          "output_type": "stream",
          "name": "stdout",
          "text": [
            "Drive already mounted at /content/drive; to attempt to forcibly remount, call drive.mount(\"/content/drive\", force_remount=True).\n"
          ]
        }
      ],
      "source": [
        "drive.mount('/content/drive')"
      ]
    },
    {
      "cell_type": "code",
      "execution_count": null,
      "metadata": {
        "id": "HTWQiA-k_tV1"
      },
      "outputs": [],
      "source": [
        "PROJECT_PATH= '/content/drive/MyDrive/project/data/'\n",
        "DATA='CICIDS2017'"
      ]
    },
    {
      "cell_type": "markdown",
      "metadata": {
        "id": "RMWmGOak8qDH"
      },
      "source": [
        "## Read the CICIDS2017 dataset"
      ]
    },
    {
      "cell_type": "code",
      "execution_count": null,
      "metadata": {
        "id": "RSMxdkjG8x-j"
      },
      "outputs": [],
      "source": [
        "df =pd.read_csv(PROJECT_PATH+'data_CICIDS2017.csv')"
      ]
    },
    {
      "cell_type": "code",
      "execution_count": null,
      "metadata": {
        "colab": {
          "base_uri": "https://localhost:8080/",
          "height": 332
        },
        "id": "cp6vnbw4Cgr0",
        "outputId": "9b1bc700-f76f-4a7d-ba2b-71510c864980"
      },
      "outputs": [
        {
          "output_type": "execute_result",
          "data": {
            "text/plain": [
              "    Destination Port   Flow Duration   Total Fwd Packets  \\\n",
              "0              54865               3                   2   \n",
              "1              55054             109                   1   \n",
              "2              55055              52                   1   \n",
              "3              46236              34                   1   \n",
              "4              54863               3                   2   \n",
              "\n",
              "    Total Backward Packets  Total Length of Fwd Packets  \\\n",
              "0                        0                           12   \n",
              "1                        1                            6   \n",
              "2                        1                            6   \n",
              "3                        1                            6   \n",
              "4                        0                           12   \n",
              "\n",
              "    Total Length of Bwd Packets   Fwd Packet Length Max  \\\n",
              "0                             0                       6   \n",
              "1                             6                       6   \n",
              "2                             6                       6   \n",
              "3                             6                       6   \n",
              "4                             0                       6   \n",
              "\n",
              "    Fwd Packet Length Min   Fwd Packet Length Mean   Fwd Packet Length Std  \\\n",
              "0                       6                      6.0                     0.0   \n",
              "1                       6                      6.0                     0.0   \n",
              "2                       6                      6.0                     0.0   \n",
              "3                       6                      6.0                     0.0   \n",
              "4                       6                      6.0                     0.0   \n",
              "\n",
              "   ...   min_seg_size_forward  Active Mean   Active Std   Active Max  \\\n",
              "0  ...                     20          0.0          0.0            0   \n",
              "1  ...                     20          0.0          0.0            0   \n",
              "2  ...                     20          0.0          0.0            0   \n",
              "3  ...                     20          0.0          0.0            0   \n",
              "4  ...                     20          0.0          0.0            0   \n",
              "\n",
              "    Active Min  Idle Mean   Idle Std   Idle Max   Idle Min   Label  \n",
              "0            0        0.0        0.0          0          0  Normal  \n",
              "1            0        0.0        0.0          0          0  Normal  \n",
              "2            0        0.0        0.0          0          0  Normal  \n",
              "3            0        0.0        0.0          0          0  Normal  \n",
              "4            0        0.0        0.0          0          0  Normal  \n",
              "\n",
              "[5 rows x 79 columns]"
            ],
            "text/html": [
              "\n",
              "  <div id=\"df-0c3b652e-8ba4-4f5b-8178-b2e0ea49ebc5\">\n",
              "    <div class=\"colab-df-container\">\n",
              "      <div>\n",
              "<style scoped>\n",
              "    .dataframe tbody tr th:only-of-type {\n",
              "        vertical-align: middle;\n",
              "    }\n",
              "\n",
              "    .dataframe tbody tr th {\n",
              "        vertical-align: top;\n",
              "    }\n",
              "\n",
              "    .dataframe thead th {\n",
              "        text-align: right;\n",
              "    }\n",
              "</style>\n",
              "<table border=\"1\" class=\"dataframe\">\n",
              "  <thead>\n",
              "    <tr style=\"text-align: right;\">\n",
              "      <th></th>\n",
              "      <th>Destination Port</th>\n",
              "      <th>Flow Duration</th>\n",
              "      <th>Total Fwd Packets</th>\n",
              "      <th>Total Backward Packets</th>\n",
              "      <th>Total Length of Fwd Packets</th>\n",
              "      <th>Total Length of Bwd Packets</th>\n",
              "      <th>Fwd Packet Length Max</th>\n",
              "      <th>Fwd Packet Length Min</th>\n",
              "      <th>Fwd Packet Length Mean</th>\n",
              "      <th>Fwd Packet Length Std</th>\n",
              "      <th>...</th>\n",
              "      <th>min_seg_size_forward</th>\n",
              "      <th>Active Mean</th>\n",
              "      <th>Active Std</th>\n",
              "      <th>Active Max</th>\n",
              "      <th>Active Min</th>\n",
              "      <th>Idle Mean</th>\n",
              "      <th>Idle Std</th>\n",
              "      <th>Idle Max</th>\n",
              "      <th>Idle Min</th>\n",
              "      <th>Label</th>\n",
              "    </tr>\n",
              "  </thead>\n",
              "  <tbody>\n",
              "    <tr>\n",
              "      <th>0</th>\n",
              "      <td>54865</td>\n",
              "      <td>3</td>\n",
              "      <td>2</td>\n",
              "      <td>0</td>\n",
              "      <td>12</td>\n",
              "      <td>0</td>\n",
              "      <td>6</td>\n",
              "      <td>6</td>\n",
              "      <td>6.0</td>\n",
              "      <td>0.0</td>\n",
              "      <td>...</td>\n",
              "      <td>20</td>\n",
              "      <td>0.0</td>\n",
              "      <td>0.0</td>\n",
              "      <td>0</td>\n",
              "      <td>0</td>\n",
              "      <td>0.0</td>\n",
              "      <td>0.0</td>\n",
              "      <td>0</td>\n",
              "      <td>0</td>\n",
              "      <td>Normal</td>\n",
              "    </tr>\n",
              "    <tr>\n",
              "      <th>1</th>\n",
              "      <td>55054</td>\n",
              "      <td>109</td>\n",
              "      <td>1</td>\n",
              "      <td>1</td>\n",
              "      <td>6</td>\n",
              "      <td>6</td>\n",
              "      <td>6</td>\n",
              "      <td>6</td>\n",
              "      <td>6.0</td>\n",
              "      <td>0.0</td>\n",
              "      <td>...</td>\n",
              "      <td>20</td>\n",
              "      <td>0.0</td>\n",
              "      <td>0.0</td>\n",
              "      <td>0</td>\n",
              "      <td>0</td>\n",
              "      <td>0.0</td>\n",
              "      <td>0.0</td>\n",
              "      <td>0</td>\n",
              "      <td>0</td>\n",
              "      <td>Normal</td>\n",
              "    </tr>\n",
              "    <tr>\n",
              "      <th>2</th>\n",
              "      <td>55055</td>\n",
              "      <td>52</td>\n",
              "      <td>1</td>\n",
              "      <td>1</td>\n",
              "      <td>6</td>\n",
              "      <td>6</td>\n",
              "      <td>6</td>\n",
              "      <td>6</td>\n",
              "      <td>6.0</td>\n",
              "      <td>0.0</td>\n",
              "      <td>...</td>\n",
              "      <td>20</td>\n",
              "      <td>0.0</td>\n",
              "      <td>0.0</td>\n",
              "      <td>0</td>\n",
              "      <td>0</td>\n",
              "      <td>0.0</td>\n",
              "      <td>0.0</td>\n",
              "      <td>0</td>\n",
              "      <td>0</td>\n",
              "      <td>Normal</td>\n",
              "    </tr>\n",
              "    <tr>\n",
              "      <th>3</th>\n",
              "      <td>46236</td>\n",
              "      <td>34</td>\n",
              "      <td>1</td>\n",
              "      <td>1</td>\n",
              "      <td>6</td>\n",
              "      <td>6</td>\n",
              "      <td>6</td>\n",
              "      <td>6</td>\n",
              "      <td>6.0</td>\n",
              "      <td>0.0</td>\n",
              "      <td>...</td>\n",
              "      <td>20</td>\n",
              "      <td>0.0</td>\n",
              "      <td>0.0</td>\n",
              "      <td>0</td>\n",
              "      <td>0</td>\n",
              "      <td>0.0</td>\n",
              "      <td>0.0</td>\n",
              "      <td>0</td>\n",
              "      <td>0</td>\n",
              "      <td>Normal</td>\n",
              "    </tr>\n",
              "    <tr>\n",
              "      <th>4</th>\n",
              "      <td>54863</td>\n",
              "      <td>3</td>\n",
              "      <td>2</td>\n",
              "      <td>0</td>\n",
              "      <td>12</td>\n",
              "      <td>0</td>\n",
              "      <td>6</td>\n",
              "      <td>6</td>\n",
              "      <td>6.0</td>\n",
              "      <td>0.0</td>\n",
              "      <td>...</td>\n",
              "      <td>20</td>\n",
              "      <td>0.0</td>\n",
              "      <td>0.0</td>\n",
              "      <td>0</td>\n",
              "      <td>0</td>\n",
              "      <td>0.0</td>\n",
              "      <td>0.0</td>\n",
              "      <td>0</td>\n",
              "      <td>0</td>\n",
              "      <td>Normal</td>\n",
              "    </tr>\n",
              "  </tbody>\n",
              "</table>\n",
              "<p>5 rows × 79 columns</p>\n",
              "</div>\n",
              "      <button class=\"colab-df-convert\" onclick=\"convertToInteractive('df-0c3b652e-8ba4-4f5b-8178-b2e0ea49ebc5')\"\n",
              "              title=\"Convert this dataframe to an interactive table.\"\n",
              "              style=\"display:none;\">\n",
              "        \n",
              "  <svg xmlns=\"http://www.w3.org/2000/svg\" height=\"24px\"viewBox=\"0 0 24 24\"\n",
              "       width=\"24px\">\n",
              "    <path d=\"M0 0h24v24H0V0z\" fill=\"none\"/>\n",
              "    <path d=\"M18.56 5.44l.94 2.06.94-2.06 2.06-.94-2.06-.94-.94-2.06-.94 2.06-2.06.94zm-11 1L8.5 8.5l.94-2.06 2.06-.94-2.06-.94L8.5 2.5l-.94 2.06-2.06.94zm10 10l.94 2.06.94-2.06 2.06-.94-2.06-.94-.94-2.06-.94 2.06-2.06.94z\"/><path d=\"M17.41 7.96l-1.37-1.37c-.4-.4-.92-.59-1.43-.59-.52 0-1.04.2-1.43.59L10.3 9.45l-7.72 7.72c-.78.78-.78 2.05 0 2.83L4 21.41c.39.39.9.59 1.41.59.51 0 1.02-.2 1.41-.59l7.78-7.78 2.81-2.81c.8-.78.8-2.07 0-2.86zM5.41 20L4 18.59l7.72-7.72 1.47 1.35L5.41 20z\"/>\n",
              "  </svg>\n",
              "      </button>\n",
              "      \n",
              "  <style>\n",
              "    .colab-df-container {\n",
              "      display:flex;\n",
              "      flex-wrap:wrap;\n",
              "      gap: 12px;\n",
              "    }\n",
              "\n",
              "    .colab-df-convert {\n",
              "      background-color: #E8F0FE;\n",
              "      border: none;\n",
              "      border-radius: 50%;\n",
              "      cursor: pointer;\n",
              "      display: none;\n",
              "      fill: #1967D2;\n",
              "      height: 32px;\n",
              "      padding: 0 0 0 0;\n",
              "      width: 32px;\n",
              "    }\n",
              "\n",
              "    .colab-df-convert:hover {\n",
              "      background-color: #E2EBFA;\n",
              "      box-shadow: 0px 1px 2px rgba(60, 64, 67, 0.3), 0px 1px 3px 1px rgba(60, 64, 67, 0.15);\n",
              "      fill: #174EA6;\n",
              "    }\n",
              "\n",
              "    [theme=dark] .colab-df-convert {\n",
              "      background-color: #3B4455;\n",
              "      fill: #D2E3FC;\n",
              "    }\n",
              "\n",
              "    [theme=dark] .colab-df-convert:hover {\n",
              "      background-color: #434B5C;\n",
              "      box-shadow: 0px 1px 3px 1px rgba(0, 0, 0, 0.15);\n",
              "      filter: drop-shadow(0px 1px 2px rgba(0, 0, 0, 0.3));\n",
              "      fill: #FFFFFF;\n",
              "    }\n",
              "  </style>\n",
              "\n",
              "      <script>\n",
              "        const buttonEl =\n",
              "          document.querySelector('#df-0c3b652e-8ba4-4f5b-8178-b2e0ea49ebc5 button.colab-df-convert');\n",
              "        buttonEl.style.display =\n",
              "          google.colab.kernel.accessAllowed ? 'block' : 'none';\n",
              "\n",
              "        async function convertToInteractive(key) {\n",
              "          const element = document.querySelector('#df-0c3b652e-8ba4-4f5b-8178-b2e0ea49ebc5');\n",
              "          const dataTable =\n",
              "            await google.colab.kernel.invokeFunction('convertToInteractive',\n",
              "                                                     [key], {});\n",
              "          if (!dataTable) return;\n",
              "\n",
              "          const docLinkHtml = 'Like what you see? Visit the ' +\n",
              "            '<a target=\"_blank\" href=https://colab.research.google.com/notebooks/data_table.ipynb>data table notebook</a>'\n",
              "            + ' to learn more about interactive tables.';\n",
              "          element.innerHTML = '';\n",
              "          dataTable['output_type'] = 'display_data';\n",
              "          await google.colab.output.renderOutput(dataTable, element);\n",
              "          const docLink = document.createElement('div');\n",
              "          docLink.innerHTML = docLinkHtml;\n",
              "          element.appendChild(docLink);\n",
              "        }\n",
              "      </script>\n",
              "    </div>\n",
              "  </div>\n",
              "  "
            ]
          },
          "metadata": {},
          "execution_count": 5
        }
      ],
      "source": [
        "df.head()"
      ]
    },
    {
      "cell_type": "code",
      "execution_count": null,
      "metadata": {
        "colab": {
          "base_uri": "https://localhost:8080/"
        },
        "id": "3gRu4A-KCmJU",
        "outputId": "2b4d5e83-9394-4cc4-a6a2-d239cd5983d8"
      },
      "outputs": [
        {
          "output_type": "execute_result",
          "data": {
            "text/plain": [
              "False"
            ]
          },
          "metadata": {},
          "execution_count": 6
        }
      ],
      "source": [
        "df.isnull().values.any()"
      ]
    },
    {
      "cell_type": "code",
      "execution_count": null,
      "metadata": {
        "id": "2kO2q3w6CvpG"
      },
      "outputs": [],
      "source": [
        "importances=np.array([5.00249856e-01, 3.77473419e-01, 2.60627616e-01, 3.07800510e-01,\n",
        "       4.45050149e-01, 4.97066895e-01, 3.97253673e-01, 1.95457386e-01,\n",
        "       3.55984552e-01, 2.78330072e-01, 4.55748909e-01, 2.73917675e-01,\n",
        "       4.85041922e-01, 2.83741954e-01, 4.01468183e-01, 3.61530681e-01,\n",
        "       3.49958080e-01, 2.68124366e-01, 3.89918149e-01, 1.79293244e-01,\n",
        "       3.49240175e-01, 3.40737675e-01, 2.42704464e-01, 3.67079813e-01,\n",
        "       1.94196920e-01, 2.42662170e-01, 2.29430530e-01, 1.65264746e-01,\n",
        "       2.58972019e-01, 1.83175675e-01, 1.06097882e-02, 2.58120046e-04,\n",
        "       3.43187687e-04, 0.00000000e+00, 3.49319022e-01, 3.72896752e-01,\n",
        "       3.62111066e-01, 3.82239509e-01, 1.95649844e-01, 4.15240017e-01,\n",
        "       5.22351890e-01, 5.49210329e-01, 5.49360262e-01, 2.72183587e-02,\n",
        "       1.04229346e-02, 1.00074148e-04, 1.14998204e-01, 9.13239804e-02,\n",
        "       2.77385000e-02, 0.00000000e+00, 1.45660024e-04, 1.90953395e-01,\n",
        "       5.54254667e-01, 3.55904374e-01, 4.84917658e-01, 3.49502525e-01,\n",
        "       0.00000000e+00, 0.00000000e+00, 2.60631721e-04, 0.00000000e+00,\n",
        "       2.62401282e-04, 0.00000000e+00, 2.60750926e-01, 4.45495713e-01,\n",
        "       3.07550330e-01, 4.96904354e-01, 4.52091660e-01, 4.40042151e-01,\n",
        "       1.67718030e-01, 1.85228496e-01, 1.82588630e-01, 2.17847077e-02,\n",
        "       1.80285462e-01, 1.81121986e-01, 1.58744121e-01, 2.97772536e-02,\n",
        "       1.65679995e-01, 1.60039336e-01])"
      ]
    },
    {
      "cell_type": "code",
      "execution_count": null,
      "metadata": {
        "colab": {
          "base_uri": "https://localhost:8080/"
        },
        "id": "y6YlIS-MC3To",
        "outputId": "539b150a-4560-4e45-988f-8f40762b0f09"
      },
      "outputs": [
        {
          "output_type": "execute_result",
          "data": {
            "text/plain": [
              "(78,)"
            ]
          },
          "metadata": {},
          "execution_count": 8
        }
      ],
      "source": [
        "importances.shape"
      ]
    },
    {
      "cell_type": "code",
      "execution_count": null,
      "metadata": {
        "id": "siBC3RDGDKg8"
      },
      "outputs": [],
      "source": [
        "X=df.drop(['Label'], axis=1)\n",
        "label=df['Label']"
      ]
    },
    {
      "cell_type": "code",
      "execution_count": null,
      "metadata": {
        "id": "nfP7rfEFDYfx",
        "colab": {
          "base_uri": "https://localhost:8080/"
        },
        "outputId": "54a2b1bc-9912-4109-de18-14a7b77f5451"
      },
      "outputs": [
        {
          "output_type": "execute_result",
          "data": {
            "text/plain": [
              "(2298395,)"
            ]
          },
          "metadata": {},
          "execution_count": 10
        }
      ],
      "source": [
        "label.shape\n"
      ]
    },
    {
      "cell_type": "markdown",
      "metadata": {
        "id": "GwdTm08-Dmez"
      },
      "source": [
        "## calculate the sum of importance scores"
      ]
    },
    {
      "cell_type": "code",
      "execution_count": null,
      "metadata": {
        "id": "Blo00cQtDllz"
      },
      "outputs": [],
      "source": [
        "features=X.columns"
      ]
    },
    {
      "cell_type": "code",
      "source": [
        "features"
      ],
      "metadata": {
        "colab": {
          "base_uri": "https://localhost:8080/"
        },
        "id": "S5oWbRTWcYfF",
        "outputId": "a277e209-e350-4264-979e-9d2f0b6641da"
      },
      "execution_count": null,
      "outputs": [
        {
          "output_type": "execute_result",
          "data": {
            "text/plain": [
              "Index([' Destination Port', ' Flow Duration', ' Total Fwd Packets',\n",
              "       ' Total Backward Packets', 'Total Length of Fwd Packets',\n",
              "       ' Total Length of Bwd Packets', ' Fwd Packet Length Max',\n",
              "       ' Fwd Packet Length Min', ' Fwd Packet Length Mean',\n",
              "       ' Fwd Packet Length Std', 'Bwd Packet Length Max',\n",
              "       ' Bwd Packet Length Min', ' Bwd Packet Length Mean',\n",
              "       ' Bwd Packet Length Std', 'Flow Bytes/s', ' Flow Packets/s',\n",
              "       ' Flow IAT Mean', ' Flow IAT Std', ' Flow IAT Max', ' Flow IAT Min',\n",
              "       'Fwd IAT Total', ' Fwd IAT Mean', ' Fwd IAT Std', ' Fwd IAT Max',\n",
              "       ' Fwd IAT Min', 'Bwd IAT Total', ' Bwd IAT Mean', ' Bwd IAT Std',\n",
              "       ' Bwd IAT Max', ' Bwd IAT Min', 'Fwd PSH Flags', ' Bwd PSH Flags',\n",
              "       ' Fwd URG Flags', ' Bwd URG Flags', ' Fwd Header Length',\n",
              "       ' Bwd Header Length', 'Fwd Packets/s', ' Bwd Packets/s',\n",
              "       ' Min Packet Length', ' Max Packet Length', ' Packet Length Mean',\n",
              "       ' Packet Length Std', ' Packet Length Variance', 'FIN Flag Count',\n",
              "       ' SYN Flag Count', ' RST Flag Count', ' PSH Flag Count',\n",
              "       ' ACK Flag Count', ' URG Flag Count', ' CWE Flag Count',\n",
              "       ' ECE Flag Count', ' Down/Up Ratio', ' Average Packet Size',\n",
              "       ' Avg Fwd Segment Size', ' Avg Bwd Segment Size',\n",
              "       ' Fwd Header Length.1', 'Fwd Avg Bytes/Bulk', ' Fwd Avg Packets/Bulk',\n",
              "       ' Fwd Avg Bulk Rate', ' Bwd Avg Bytes/Bulk', ' Bwd Avg Packets/Bulk',\n",
              "       'Bwd Avg Bulk Rate', 'Subflow Fwd Packets', ' Subflow Fwd Bytes',\n",
              "       ' Subflow Bwd Packets', ' Subflow Bwd Bytes', 'Init_Win_bytes_forward',\n",
              "       ' Init_Win_bytes_backward', ' act_data_pkt_fwd',\n",
              "       ' min_seg_size_forward', 'Active Mean', ' Active Std', ' Active Max',\n",
              "       ' Active Min', 'Idle Mean', ' Idle Std', ' Idle Max', ' Idle Min'],\n",
              "      dtype='object')"
            ]
          },
          "metadata": {},
          "execution_count": 12
        }
      ]
    },
    {
      "cell_type": "code",
      "execution_count": null,
      "metadata": {
        "id": "JOTyB4N9Dw4v"
      },
      "outputs": [],
      "source": [
        "f_list = sorted(zip(map(lambda x: round(x, 4), importances), features), reverse=True)\n",
        "Sum = 0\n",
        "fs = []\n",
        "for i in range(0, len(f_list)):\n",
        "    Sum = Sum + f_list[i][0]\n",
        "    fs.append(f_list[i][1])"
      ]
    },
    {
      "cell_type": "markdown",
      "metadata": {
        "id": "iXnHvYbDD5sM"
      },
      "source": [
        "## select the important features from top to bottom until the accumulated importance reaches 90%"
      ]
    },
    {
      "cell_type": "code",
      "execution_count": null,
      "metadata": {
        "id": "2Ymv1rdAD5AC"
      },
      "outputs": [],
      "source": [
        "f_list2 = sorted(zip(map(lambda x: round(x, 4), importances/Sum), features), reverse=True)\n",
        "Sum2 = 0\n",
        "fs = []\n",
        "for i in range(0, len(f_list2)):\n",
        "    Sum2 = Sum2 + f_list2[i][0]\n",
        "    fs.append(f_list2[i][1])\n",
        "    if Sum2>=0.9:\n",
        "        break\n",
        "# X_fs = df[fs].values # has 50 features"
      ]
    },
    {
      "cell_type": "code",
      "source": [
        "fs"
      ],
      "metadata": {
        "colab": {
          "base_uri": "https://localhost:8080/"
        },
        "id": "46ysFDJudcc8",
        "outputId": "ab1e591b-5ef0-47ba-a25f-ccf08c837f06"
      },
      "execution_count": null,
      "outputs": [
        {
          "output_type": "execute_result",
          "data": {
            "text/plain": [
              "[' Average Packet Size',\n",
              " ' Packet Length Variance',\n",
              " ' Packet Length Std',\n",
              " ' Packet Length Mean',\n",
              " ' Destination Port',\n",
              " ' Total Length of Bwd Packets',\n",
              " ' Subflow Bwd Bytes',\n",
              " ' Bwd Packet Length Mean',\n",
              " ' Avg Bwd Segment Size',\n",
              " 'Bwd Packet Length Max',\n",
              " 'Init_Win_bytes_forward',\n",
              " 'Total Length of Fwd Packets',\n",
              " ' Subflow Fwd Bytes',\n",
              " ' Init_Win_bytes_backward',\n",
              " ' Max Packet Length',\n",
              " 'Flow Bytes/s',\n",
              " ' Fwd Packet Length Max',\n",
              " ' Flow IAT Max',\n",
              " ' Bwd Packets/s',\n",
              " ' Flow Duration',\n",
              " ' Bwd Header Length',\n",
              " ' Fwd IAT Max',\n",
              " 'Fwd Packets/s',\n",
              " ' Flow Packets/s',\n",
              " ' Fwd Packet Length Mean',\n",
              " ' Avg Fwd Segment Size',\n",
              " 'Fwd IAT Total',\n",
              " ' Fwd Header Length.1',\n",
              " ' Fwd Header Length',\n",
              " ' Flow IAT Mean',\n",
              " ' Fwd IAT Mean',\n",
              " ' Total Backward Packets',\n",
              " ' Subflow Bwd Packets',\n",
              " ' Bwd Packet Length Std',\n",
              " ' Fwd Packet Length Std',\n",
              " ' Bwd Packet Length Min',\n",
              " ' Flow IAT Std',\n",
              " 'Subflow Fwd Packets',\n",
              " ' Total Fwd Packets',\n",
              " ' Bwd IAT Max',\n",
              " 'Bwd IAT Total',\n",
              " ' Fwd IAT Std',\n",
              " ' Bwd IAT Mean',\n",
              " ' Min Packet Length',\n",
              " ' Fwd Packet Length Min',\n",
              " ' Fwd IAT Min',\n",
              " ' Down/Up Ratio',\n",
              " ' min_seg_size_forward',\n",
              " 'Active Mean']"
            ]
          },
          "metadata": {},
          "execution_count": 15
        }
      ]
    },
    {
      "cell_type": "markdown",
      "source": [
        "## FCBF_module"
      ],
      "metadata": {
        "id": "xrudBuAZAz0s"
      }
    },
    {
      "cell_type": "code",
      "source": [
        "# -*- coding: utf-8 -*-\n",
        "\n",
        "import numpy as np\n",
        "\n",
        "\n",
        "def count_vals(x):\n",
        "    _, occ = np.unique(x, return_counts=True)\n",
        "    # occ = np.zeros(shape=vals.shape)\n",
        "    # for i in range(vals.size):\n",
        "    #     occ[i] = np.sum(x == vals[i])\n",
        "    return occ\n",
        "\n",
        "\n",
        "def entropy(x):\n",
        "    n = float(x.shape[0])\n",
        "    ocurrence = count_vals(x)\n",
        "    px = ocurrence / n\n",
        "    return -1 * np.sum(px * np.log2(px))\n",
        "\n",
        "\n",
        "def symmetricalUncertain(x, y):\n",
        "    n = float(y.shape[0])\n",
        "    vals = np.unique(y)\n",
        "    # Computing Entropy for the feature x.\n",
        "    Hx = entropy(x)\n",
        "    # Computing Entropy for the feature y.\n",
        "    Hy = entropy(y)\n",
        "    # Computing Joint entropy between x and y.\n",
        "    partial = np.zeros(shape=(vals.shape[0]))\n",
        "    for i in range(vals.shape[0]):\n",
        "        partial[i] = entropy(x[y == vals[i]])\n",
        "\n",
        "    partial[np.isnan(partial) == 1] = 0\n",
        "    py = count_vals(y).astype(dtype='float64') / n\n",
        "    Hxy = np.sum(py[py > 0] * partial)\n",
        "    IG = Hx - Hxy\n",
        "    res = 2 * IG / (Hx + Hy)\n",
        "    return res\n",
        "\n",
        "\n",
        "def suGroup(x, n):\n",
        "    m = x.shape[0]\n",
        "    x = np.reshape(x, (n, m / n)).T\n",
        "    m = x.shape[1]\n",
        "    SU_matrix = np.zeros(shape=(m, m))\n",
        "    for j in range(m - 1):\n",
        "        x2 = x[:, j + 1::]\n",
        "        y = x[:, j]\n",
        "        temp = np.apply_along_axis(symmetricalUncertain, 0, x2, y)\n",
        "        for k in range(temp.shape[0]):\n",
        "            SU_matrix[j, j + 1::] = temp\n",
        "            SU_matrix[j + 1::, j] = temp\n",
        "\n",
        "    return 1 / float(m - 1) * np.sum(SU_matrix, axis=1)\n",
        "\n",
        "\n",
        "def isprime(a):\n",
        "    return all(a % i for i in range(2, a))\n",
        "\n",
        "\n",
        "\"\"\"\n",
        "get\n",
        "\"\"\"\n",
        "\n",
        "\n",
        "def get_i(a):\n",
        "    if isprime(a):\n",
        "        a -= 1\n",
        "    return filter(lambda x: a % x == 0, range(2, a))\n",
        "\n",
        "\n",
        "\"\"\"\n",
        "FCBF - Fast Correlation Based Filter\n",
        "\n",
        "L. Yu and H. Liu. Feature Selection for High‐Dimensional Data: A Fast Correlation‐Based Filter Solution.\n",
        "In Proceedings of The Twentieth International Conference on Machine Leaning (ICML‐03), 856‐863.\n",
        "Washington, D.C., August 21‐24, 2003.\n",
        "\"\"\"\n",
        "\n",
        "\n",
        "class FCBF:\n",
        "    idx_sel = []\n",
        "\n",
        "    def __init__(self, th=0.01):\n",
        "        '''\n",
        "        Parameters\n",
        "        ---------------\n",
        "            th = The initial threshold\n",
        "        '''\n",
        "        self.th = th\n",
        "\n",
        "    def fit(self, x, y):\n",
        "        '''\n",
        "        This function executes FCBF algorithm and saves indexes\n",
        "        of selected features in self.idx_sel\n",
        "\n",
        "        Parameters\n",
        "        ---------------\n",
        "            x = dataset  [NxM]\n",
        "            y = label    [Nx1]\n",
        "        '''\n",
        "        self.idx_sel = []\n",
        "        \"\"\"\n",
        "        First Stage: Computing the SU for each feature with the response.\n",
        "        \"\"\"\n",
        "        SU_vec = np.apply_along_axis(symmetricalUncertain, 0, x, y)\n",
        "        SU_list = SU_vec[SU_vec > self.th]\n",
        "        SU_list[::-1].sort()\n",
        "\n",
        "        m = x[:, SU_vec > self.th].shape\n",
        "        x_sorted = np.zeros(shape=m)\n",
        "\n",
        "        for i in range(m[1]):\n",
        "            ind = np.argmax(SU_vec)\n",
        "            SU_vec[ind] = 0\n",
        "            x_sorted[:, i] = x[:, ind].copy()\n",
        "            self.idx_sel.append(ind)\n",
        "\n",
        "        \"\"\"\n",
        "        Second Stage: Identify relationships between feature to remove redundancy.\n",
        "        \"\"\"\n",
        "        j = 0\n",
        "        while True:\n",
        "            \"\"\"\n",
        "            Stopping Criteria:The search finishes\n",
        "            \"\"\"\n",
        "            if j >= x_sorted.shape[1]: break\n",
        "            y = x_sorted[:, j].copy()\n",
        "            x_list = x_sorted[:, j + 1:].copy()\n",
        "            if x_list.shape[1] == 0: break\n",
        "\n",
        "            SU_list_2 = SU_list[j + 1:]\n",
        "            SU_x = np.apply_along_axis(symmetricalUncertain, 0,\n",
        "                                       x_list, y)\n",
        "\n",
        "            comp_SU = SU_x >= SU_list_2\n",
        "            to_remove = np.where(comp_SU)[0] + j + 1\n",
        "            if to_remove.size > 0:\n",
        "                x_sorted = np.delete(x_sorted, to_remove, axis=1)\n",
        "                SU_list = np.delete(SU_list, to_remove, axis=0)\n",
        "                to_remove.sort()\n",
        "                for r in reversed(to_remove):\n",
        "                    self.idx_sel.remove(self.idx_sel[r])\n",
        "            j = j + 1\n",
        "\n",
        "    def fit_transform(self, x, y):\n",
        "        '''\n",
        "        This function fits the feature selection\n",
        "        algorithm and returns the resulting subset.\n",
        "\n",
        "        Parameters\n",
        "        ---------------\n",
        "            x = dataset  [NxM]\n",
        "            y = label    [Nx1]\n",
        "        '''\n",
        "        self.fit(x, y)\n",
        "        return x[:, self.idx_sel]\n",
        "\n",
        "    def transform(self, x):\n",
        "        '''\n",
        "        This function applies the selection\n",
        "        to the vector x.\n",
        "\n",
        "        Parameters\n",
        "        ---------------\n",
        "            x = dataset  [NxM]\n",
        "        '''\n",
        "        return x[:, self.idx_sel]\n",
        "\n",
        "\n",
        "\"\"\"\n",
        "FCBF# - Fast Correlation Based Filter\n",
        "B. Senliol, G. Gulgezen, et al. Fast Correlation Based Filter (FCBF) with a Different Search Strategy.\n",
        "In Computer and Information Sciences (ISCIS ‘08) 23rd International Symposium on, pages 1‐4.\n",
        "Istanbul, October 27‐29, 2008.\n",
        "\"\"\"\n",
        "\n",
        "\n",
        "class FCBFK(FCBF):\n",
        "    idx_sel = []\n",
        "\n",
        "    def __init__(self, k=10):\n",
        "        '''\n",
        "        Parameters\n",
        "        ---------------\n",
        "            k = Number of features to include in the\n",
        "            subset.\n",
        "        '''\n",
        "        self.k = k\n",
        "\n",
        "    def fit(self, x, y):\n",
        "        '''\n",
        "        This function executes FCBFK algorithm and saves indexes\n",
        "        of selected features in self.idx_sel\n",
        "\n",
        "        Parameters\n",
        "        ---------------\n",
        "            x = dataset  [NxM]\n",
        "            y = label    [Nx1]\n",
        "        '''\n",
        "        self.idx_sel = []\n",
        "        \"\"\"\n",
        "        First Stage: Computing the SU for each feature with the response.\n",
        "        \"\"\"\n",
        "        SU_vec = np.apply_along_axis(symmetricalUncertain, 0, x, y)\n",
        "\n",
        "        SU_list = SU_vec[SU_vec > 0]\n",
        "        SU_list[::-1].sort()\n",
        "\n",
        "        m = x[:, SU_vec > 0].shape\n",
        "        x_sorted = np.zeros(shape=m)\n",
        "\n",
        "        for i in range(m[1]):\n",
        "            ind = np.argmax(SU_vec)\n",
        "            SU_vec[ind] = 0\n",
        "            x_sorted[:, i] = x[:, ind].copy()\n",
        "            self.idx_sel.append(ind)\n",
        "\n",
        "        \"\"\"\n",
        "        Second Stage: Identify relationships between features to remove redundancy with stopping\n",
        "        criteria (features in x_best == k).\n",
        "        \"\"\"\n",
        "        j = 0\n",
        "        while True:\n",
        "            y = x_sorted[:, j].copy()\n",
        "            SU_list_2 = SU_list[j + 1:]\n",
        "            x_list = x_sorted[:, j + 1:].copy()\n",
        "\n",
        "            \"\"\"\n",
        "            Stopping Criteria:The search finishes\n",
        "            \"\"\"\n",
        "            if x_list.shape[1] == 0: break\n",
        "\n",
        "            SU_x = np.apply_along_axis(symmetricalUncertain, 0,\n",
        "                                       x_list, y)\n",
        "\n",
        "            comp_SU = SU_x >= SU_list_2\n",
        "            to_remove = np.where(comp_SU)[0] + j + 1\n",
        "            if to_remove.size > 0 and x.shape[1] > self.k:\n",
        "\n",
        "                for i in reversed(to_remove):\n",
        "\n",
        "                    x_sorted = np.delete(x_sorted, i, axis=1)\n",
        "                    SU_list = np.delete(SU_list, i, axis=0)\n",
        "                    self.idx_sel.remove(self.idx_sel[i])\n",
        "                    if x_sorted.shape[1] == self.k: break\n",
        "\n",
        "            if x_list.shape[1] == 1 or x_sorted.shape[1] == self.k:\n",
        "                break\n",
        "            j = j + 1\n",
        "\n",
        "        if len(self.idx_sel) > self.k:\n",
        "            self.idx_sel = self.idx_sel[:self.k]\n",
        "\n",
        "\n",
        "\"\"\"\n",
        "FCBFiP - Fast Correlation Based Filter in Pieces\n",
        "\"\"\"\n",
        "\n",
        "\n",
        "class FCBFiP(FCBF):\n",
        "    idx_sel = []\n",
        "\n",
        "    def __init__(self, k=10, npieces=2):\n",
        "        '''\n",
        "        Parameters\n",
        "        ---------------\n",
        "            k = Number of features to include in the\n",
        "            subset.\n",
        "            npieces = Number of pieces to divide the\n",
        "            feature space.\n",
        "        '''\n",
        "        self.k = k\n",
        "        self.npieces = npieces\n",
        "\n",
        "    def fit(self, x, y):\n",
        "        '''\n",
        "        This function executes FCBF algorithm and saves indexes\n",
        "        of selected features in self.idx_sel\n",
        "\n",
        "        Parameters\n",
        "        ---------------\n",
        "            x = dataset  [NxM]\n",
        "            y = label    [Nx1]\n",
        "        '''\n",
        "\n",
        "        \"\"\"\n",
        "        First Stage: Computing the SU for each feature with the response. We sort the\n",
        "        features. When we have a prime number of features we remove the last one from the\n",
        "        sorted features list.\n",
        "        \"\"\"\n",
        "        m = x.shape\n",
        "        nfeaturesPieces = int(m[1] / float(self.npieces))\n",
        "        SU_vec = np.apply_along_axis(symmetricalUncertain, 0, x, y)\n",
        "\n",
        "        x_sorted = np.zeros(shape=m, dtype='float64')\n",
        "        idx_sorted = np.zeros(shape=m[1], dtype='int64')\n",
        "        for i in range(m[1]):\n",
        "            ind = np.argmax(SU_vec)\n",
        "            SU_vec[ind] = -1\n",
        "            idx_sorted[i] = ind\n",
        "            x_sorted[:, i] = x[:, ind].copy()\n",
        "\n",
        "        if isprime(m[1]):\n",
        "            x_sorted = np.delete(x_sorted, m[1] - 1, axis=1)\n",
        "            ind_prime = idx_sorted[m[1] - 1]\n",
        "            idx_sorted = np.delete(idx_sorted, m[1] - 1)\n",
        "            # m = x_sorted.shape\n",
        "        \"\"\"\n",
        "        Second Stage: Identify relationships between features into its vecinity\n",
        "        to remove redundancy with stopping criteria (features in x_best == k).\n",
        "        \"\"\"\n",
        "\n",
        "        x_2d = np.reshape(x_sorted.T, (self.npieces, nfeaturesPieces * m[0])).T\n",
        "\n",
        "        SU_x = np.apply_along_axis(suGroup, 0, x_2d, nfeaturesPieces)\n",
        "        SU_x = np.reshape(SU_x.T, (self.npieces * nfeaturesPieces,))\n",
        "        idx_sorted2 = np.zeros(shape=idx_sorted.shape, dtype='int64')\n",
        "        SU_x[np.isnan(SU_x)] = 1\n",
        "\n",
        "        for i in range(idx_sorted.shape[0]):\n",
        "            ind = np.argmin(SU_x)\n",
        "            idx_sorted2[i] = idx_sorted[ind]\n",
        "            SU_x[ind] = 10\n",
        "\n",
        "        \"\"\"\n",
        "        Scoring step\n",
        "        \"\"\"\n",
        "        self.scores = np.zeros(shape=m[1], dtype='int64')\n",
        "\n",
        "        for i in range(m[1]):\n",
        "            if i in idx_sorted:\n",
        "                self.scores[i] = np.argwhere(i == idx_sorted) + np.argwhere(i == idx_sorted2)\n",
        "        if isprime(m[1]):\n",
        "            self.scores[ind_prime] = 2 * m[1]\n",
        "        self.set_k(self.k)\n",
        "\n",
        "    def set_k(self, k):\n",
        "        self.k = k\n",
        "        scores_temp = -1 * self.scores\n",
        "\n",
        "        self.idx_sel = np.zeros(shape=self.k, dtype='int64')\n",
        "        for i in range(self.k):\n",
        "            ind = np.argmax(scores_temp)\n",
        "            scores_temp[ind] = -100000000\n",
        "            self.idx_sel[i] = ind\n"
      ],
      "metadata": {
        "id": "Mc_RoO31Frwl"
      },
      "execution_count": null,
      "outputs": []
    },
    {
      "cell_type": "code",
      "source": [
        "df_sample=df.sample(250_000, random_state=0)\n",
        "X_sample=df_sample.drop(['Label'], axis=1)\n",
        "label_sample = df_sample['Label']\n",
        "X_fs_sample=X_sample[fs].values"
      ],
      "metadata": {
        "id": "HUoW6OsS8t4n"
      },
      "execution_count": null,
      "outputs": []
    },
    {
      "cell_type": "code",
      "source": [
        "X_fs_sample.shape"
      ],
      "metadata": {
        "colab": {
          "base_uri": "https://localhost:8080/"
        },
        "id": "q9-fdbKm9OBB",
        "outputId": "1bfa2c93-cf3c-4832-f713-ada0d75ccea0"
      },
      "execution_count": null,
      "outputs": [
        {
          "output_type": "execute_result",
          "data": {
            "text/plain": [
              "(250000, 49)"
            ]
          },
          "metadata": {},
          "execution_count": 18
        }
      ]
    },
    {
      "cell_type": "markdown",
      "source": [
        "## FCBF"
      ],
      "metadata": {
        "id": "vto7UgJ8BiVU"
      }
    },
    {
      "cell_type": "code",
      "execution_count": null,
      "metadata": {
        "id": "iDvOxjmgGAW2"
      },
      "outputs": [],
      "source": [
        "fcbf = FCBFK(k = 25)\n",
        "\n",
        "fcbf.fit(X_fs_sample,label_sample)"
      ]
    },
    {
      "cell_type": "code",
      "source": [
        "idx=sorted(fcbf.idx_sel)"
      ],
      "metadata": {
        "id": "1p-1lM99EQ75"
      },
      "execution_count": null,
      "outputs": []
    },
    {
      "cell_type": "code",
      "source": [
        "X_fs = df[fs].values"
      ],
      "metadata": {
        "id": "QY5Bw1x_GdZC"
      },
      "execution_count": null,
      "outputs": []
    },
    {
      "cell_type": "code",
      "source": [
        "X_fss=X_fs[:, idx]"
      ],
      "metadata": {
        "id": "uFxj-UUxHsyi"
      },
      "execution_count": null,
      "outputs": []
    },
    {
      "cell_type": "code",
      "source": [
        "X_fss.shape"
      ],
      "metadata": {
        "colab": {
          "base_uri": "https://localhost:8080/"
        },
        "id": "KKYNC5DwIW4w",
        "outputId": "84a01f36-0b48-4745-9c0d-30ec8c66352b"
      },
      "execution_count": null,
      "outputs": [
        {
          "output_type": "execute_result",
          "data": {
            "text/plain": [
              "(2298395, 25)"
            ]
          },
          "metadata": {},
          "execution_count": 23
        }
      ]
    },
    {
      "cell_type": "code",
      "source": [
        "fs1 = np.array(fs)"
      ],
      "metadata": {
        "id": "f1UjIEQ7en8l"
      },
      "execution_count": null,
      "outputs": []
    },
    {
      "cell_type": "code",
      "source": [
        "features1=fs1[idx]"
      ],
      "metadata": {
        "id": "VvATTpKpb_y4"
      },
      "execution_count": null,
      "outputs": []
    },
    {
      "cell_type": "code",
      "source": [
        "features1"
      ],
      "metadata": {
        "colab": {
          "base_uri": "https://localhost:8080/"
        },
        "id": "sX4iI15scIqI",
        "outputId": "b0706811-2a0d-4eb5-fdc2-4068e5be0548"
      },
      "execution_count": null,
      "outputs": [
        {
          "output_type": "execute_result",
          "data": {
            "text/plain": [
              "array([' Average Packet Size', ' Packet Length Variance',\n",
              "       ' Packet Length Std', ' Destination Port',\n",
              "       ' Total Length of Bwd Packets', ' Subflow Bwd Bytes',\n",
              "       ' Bwd Packet Length Mean', ' Avg Bwd Segment Size',\n",
              "       'Bwd Packet Length Max', 'Init_Win_bytes_forward',\n",
              "       'Total Length of Fwd Packets', ' Subflow Fwd Bytes',\n",
              "       ' Init_Win_bytes_backward', ' Fwd Packet Length Max',\n",
              "       ' Bwd Header Length', ' Fwd Header Length.1', ' Fwd Header Length',\n",
              "       ' Total Backward Packets', ' Subflow Bwd Packets',\n",
              "       ' Bwd Packet Length Std', ' Bwd Packet Length Min',\n",
              "       'Subflow Fwd Packets', ' Total Fwd Packets', ' Down/Up Ratio',\n",
              "       ' min_seg_size_forward'], dtype='<U28')"
            ]
          },
          "metadata": {},
          "execution_count": 26
        }
      ]
    },
    {
      "cell_type": "markdown",
      "source": [
        "## Train-test split after feature selection"
      ],
      "metadata": {
        "id": "SQpABuq9DPNK"
      }
    },
    {
      "cell_type": "code",
      "source": [
        "X_imbalance = pd.DataFrame(X_fss, columns = features1)"
      ],
      "metadata": {
        "id": "xQtIUu_na6mR"
      },
      "execution_count": null,
      "outputs": []
    },
    {
      "cell_type": "markdown",
      "source": [
        "## Solve class-imbalance by SMOTE"
      ],
      "metadata": {
        "id": "Cr6RhtFkDa8B"
      }
    },
    {
      "cell_type": "code",
      "source": [
        "from imblearn.over_sampling import SMOTE\n",
        "from collections import Counter"
      ],
      "metadata": {
        "id": "vAvKn9M5DbzU"
      },
      "execution_count": null,
      "outputs": []
    },
    {
      "cell_type": "code",
      "source": [
        "print(label.shape)\n",
        "print(label.shape)"
      ],
      "metadata": {
        "id": "ubDXLwPimAFA",
        "colab": {
          "base_uri": "https://localhost:8080/"
        },
        "outputId": "45f07939-c429-47e3-fbc7-faeed8bbe27a"
      },
      "execution_count": null,
      "outputs": [
        {
          "output_type": "stream",
          "name": "stdout",
          "text": [
            "(2298395,)\n",
            "(2298395,)\n"
          ]
        }
      ]
    },
    {
      "cell_type": "code",
      "source": [
        "smote=SMOTE(n_jobs=-1,sampling_strategy={'Normal': 1741839, 'Dos/DDos': 379748, 'PortScan': 158804, 'Brute Force': 40000,\n",
        "                                          'Web Attack': 40000, 'Botnet ARES': 40000, 'Infiltration': 40000})\n",
        "# smote=SMOTE(n_jobs=-1)\n",
        "X_resampled, y_resampled = smote.fit_resample(X_imbalance, label)"
      ],
      "metadata": {
        "id": "ia02qgYfDfg9"
      },
      "execution_count": null,
      "outputs": []
    },
    {
      "cell_type": "code",
      "source": [
        "print('Resampled dataset shape %s' % Counter(label))\n",
        "print('Resampled dataset shape %s' % Counter(y_resampled))"
      ],
      "metadata": {
        "colab": {
          "base_uri": "https://localhost:8080/"
        },
        "id": "nfJL7-7ojibw",
        "outputId": "9c4be3db-ac18-4b53-a553-64960de64490"
      },
      "execution_count": null,
      "outputs": [
        {
          "output_type": "stream",
          "name": "stdout",
          "text": [
            "Resampled dataset shape Counter({'Normal': 1741839, 'Dos/DDos': 379748, 'PortScan': 158804, 'Brute Force': 13832, 'Web Attack': 2180, 'Botnet ARES': 1956, 'Infiltration': 36})\n",
            "Resampled dataset shape Counter({'Normal': 1741839, 'Dos/DDos': 379748, 'PortScan': 158804, 'Botnet ARES': 40000, 'Infiltration': 40000, 'Web Attack': 40000, 'Brute Force': 40000})\n"
          ]
        }
      ]
    },
    {
      "cell_type": "markdown",
      "source": [
        "## Solve class-imbalance by NearMiss"
      ],
      "metadata": {
        "id": "5rcvZqWmc5H-"
      }
    },
    {
      "cell_type": "code",
      "source": [
        "from imblearn.under_sampling import NearMiss\n",
        "\n",
        "nm = NearMiss(n_jobs=-1,sampling_strategy={'Normal': 40000, 'Dos/DDos': 40000, 'PortScan': 40000, 'Brute Force': 40000,\n",
        "                                          'Web Attack': 40000, 'Botnet ARES': 40000, 'Infiltration': 40000})\n",
        "X_res, y_res = nm.fit_resample(X_resampled, y_resampled)"
      ],
      "metadata": {
        "id": "SQkoOvZQyfP8"
      },
      "execution_count": null,
      "outputs": []
    },
    {
      "cell_type": "code",
      "source": [
        "print('Resampled dataset shape %s' % Counter(y_resampled))\n",
        "print('Resampled dataset shape %s' % Counter(y_res))"
      ],
      "metadata": {
        "colab": {
          "base_uri": "https://localhost:8080/"
        },
        "id": "RbTZYuyOd2UW",
        "outputId": "ffb10f88-9bf8-4a5c-e432-6637edef11b5"
      },
      "execution_count": null,
      "outputs": [
        {
          "output_type": "stream",
          "name": "stdout",
          "text": [
            "Resampled dataset shape Counter({'Normal': 1741839, 'Dos/DDos': 379748, 'PortScan': 158804, 'Botnet ARES': 40000, 'Infiltration': 40000, 'Web Attack': 40000, 'Brute Force': 40000})\n",
            "Resampled dataset shape Counter({'Botnet ARES': 40000, 'Brute Force': 40000, 'Dos/DDos': 40000, 'Infiltration': 40000, 'Normal': 40000, 'PortScan': 40000, 'Web Attack': 40000})\n"
          ]
        }
      ]
    },
    {
      "cell_type": "code",
      "source": [
        "X_res['Label']=y_res"
      ],
      "metadata": {
        "id": "7EUVnvTVMCBt"
      },
      "execution_count": null,
      "outputs": []
    },
    {
      "cell_type": "code",
      "source": [
        "X_res.head()"
      ],
      "metadata": {
        "colab": {
          "base_uri": "https://localhost:8080/",
          "height": 438
        },
        "id": "ANAMqFvtMP48",
        "outputId": "f6047150-2df2-49ea-a038-3a0fe7090139"
      },
      "execution_count": null,
      "outputs": [
        {
          "output_type": "execute_result",
          "data": {
            "text/plain": [
              "    Average Packet Size   Packet Length Variance   Packet Length Std  \\\n",
              "0              0.000000                 0.000000            0.000000   \n",
              "1             39.111111              4645.511111           68.157986   \n",
              "2            286.285714            423807.714300          651.005157   \n",
              "3             48.714286              5711.696429           75.575766   \n",
              "4             48.714286              5711.696429           75.575766   \n",
              "\n",
              "    Destination Port   Total Length of Bwd Packets   Subflow Bwd Bytes  \\\n",
              "0             8080.0                           0.0                 0.0   \n",
              "1             8080.0                         140.0               140.0   \n",
              "2             8080.0                         134.0               134.0   \n",
              "3             8080.0                         134.0               134.0   \n",
              "4             8080.0                         134.0               134.0   \n",
              "\n",
              "    Bwd Packet Length Mean   Avg Bwd Segment Size  Bwd Packet Length Max  \\\n",
              "0                 0.000000               0.000000                    0.0   \n",
              "1                35.000000              35.000000                  128.0   \n",
              "2                44.666667              44.666667                  128.0   \n",
              "3                44.666667              44.666667                  128.0   \n",
              "4                44.666667              44.666667                  128.0   \n",
              "\n",
              "   Init_Win_bytes_forward  ...   Fwd Header Length   Total Backward Packets  \\\n",
              "0                   237.0  ...                32.0                      1.0   \n",
              "1                  8192.0  ...               112.0                      4.0   \n",
              "2                  8192.0  ...                92.0                      3.0   \n",
              "3                  8192.0  ...                92.0                      3.0   \n",
              "4                  8192.0  ...                92.0                      3.0   \n",
              "\n",
              "    Subflow Bwd Packets   Bwd Packet Length Std   Bwd Packet Length Min  \\\n",
              "0                   1.0                0.000000                     0.0   \n",
              "1                   4.0               62.064483                     0.0   \n",
              "2                   3.0               72.231111                     0.0   \n",
              "3                   3.0               72.231111                     0.0   \n",
              "4                   3.0               72.231111                     0.0   \n",
              "\n",
              "   Subflow Fwd Packets   Total Fwd Packets   Down/Up Ratio  \\\n",
              "0                  1.0                 1.0             1.0   \n",
              "1                  5.0                 5.0             0.0   \n",
              "2                  4.0                 4.0             0.0   \n",
              "3                  4.0                 4.0             0.0   \n",
              "4                  4.0                 4.0             0.0   \n",
              "\n",
              "    min_seg_size_forward        Label  \n",
              "0                   32.0  Botnet ARES  \n",
              "1                   20.0  Botnet ARES  \n",
              "2                   20.0  Botnet ARES  \n",
              "3                   20.0  Botnet ARES  \n",
              "4                   20.0  Botnet ARES  \n",
              "\n",
              "[5 rows x 26 columns]"
            ],
            "text/html": [
              "\n",
              "  <div id=\"df-bfe867ca-ec51-47c0-a475-96b6aa90c83d\">\n",
              "    <div class=\"colab-df-container\">\n",
              "      <div>\n",
              "<style scoped>\n",
              "    .dataframe tbody tr th:only-of-type {\n",
              "        vertical-align: middle;\n",
              "    }\n",
              "\n",
              "    .dataframe tbody tr th {\n",
              "        vertical-align: top;\n",
              "    }\n",
              "\n",
              "    .dataframe thead th {\n",
              "        text-align: right;\n",
              "    }\n",
              "</style>\n",
              "<table border=\"1\" class=\"dataframe\">\n",
              "  <thead>\n",
              "    <tr style=\"text-align: right;\">\n",
              "      <th></th>\n",
              "      <th>Average Packet Size</th>\n",
              "      <th>Packet Length Variance</th>\n",
              "      <th>Packet Length Std</th>\n",
              "      <th>Destination Port</th>\n",
              "      <th>Total Length of Bwd Packets</th>\n",
              "      <th>Subflow Bwd Bytes</th>\n",
              "      <th>Bwd Packet Length Mean</th>\n",
              "      <th>Avg Bwd Segment Size</th>\n",
              "      <th>Bwd Packet Length Max</th>\n",
              "      <th>Init_Win_bytes_forward</th>\n",
              "      <th>...</th>\n",
              "      <th>Fwd Header Length</th>\n",
              "      <th>Total Backward Packets</th>\n",
              "      <th>Subflow Bwd Packets</th>\n",
              "      <th>Bwd Packet Length Std</th>\n",
              "      <th>Bwd Packet Length Min</th>\n",
              "      <th>Subflow Fwd Packets</th>\n",
              "      <th>Total Fwd Packets</th>\n",
              "      <th>Down/Up Ratio</th>\n",
              "      <th>min_seg_size_forward</th>\n",
              "      <th>Label</th>\n",
              "    </tr>\n",
              "  </thead>\n",
              "  <tbody>\n",
              "    <tr>\n",
              "      <th>0</th>\n",
              "      <td>0.000000</td>\n",
              "      <td>0.000000</td>\n",
              "      <td>0.000000</td>\n",
              "      <td>8080.0</td>\n",
              "      <td>0.0</td>\n",
              "      <td>0.0</td>\n",
              "      <td>0.000000</td>\n",
              "      <td>0.000000</td>\n",
              "      <td>0.0</td>\n",
              "      <td>237.0</td>\n",
              "      <td>...</td>\n",
              "      <td>32.0</td>\n",
              "      <td>1.0</td>\n",
              "      <td>1.0</td>\n",
              "      <td>0.000000</td>\n",
              "      <td>0.0</td>\n",
              "      <td>1.0</td>\n",
              "      <td>1.0</td>\n",
              "      <td>1.0</td>\n",
              "      <td>32.0</td>\n",
              "      <td>Botnet ARES</td>\n",
              "    </tr>\n",
              "    <tr>\n",
              "      <th>1</th>\n",
              "      <td>39.111111</td>\n",
              "      <td>4645.511111</td>\n",
              "      <td>68.157986</td>\n",
              "      <td>8080.0</td>\n",
              "      <td>140.0</td>\n",
              "      <td>140.0</td>\n",
              "      <td>35.000000</td>\n",
              "      <td>35.000000</td>\n",
              "      <td>128.0</td>\n",
              "      <td>8192.0</td>\n",
              "      <td>...</td>\n",
              "      <td>112.0</td>\n",
              "      <td>4.0</td>\n",
              "      <td>4.0</td>\n",
              "      <td>62.064483</td>\n",
              "      <td>0.0</td>\n",
              "      <td>5.0</td>\n",
              "      <td>5.0</td>\n",
              "      <td>0.0</td>\n",
              "      <td>20.0</td>\n",
              "      <td>Botnet ARES</td>\n",
              "    </tr>\n",
              "    <tr>\n",
              "      <th>2</th>\n",
              "      <td>286.285714</td>\n",
              "      <td>423807.714300</td>\n",
              "      <td>651.005157</td>\n",
              "      <td>8080.0</td>\n",
              "      <td>134.0</td>\n",
              "      <td>134.0</td>\n",
              "      <td>44.666667</td>\n",
              "      <td>44.666667</td>\n",
              "      <td>128.0</td>\n",
              "      <td>8192.0</td>\n",
              "      <td>...</td>\n",
              "      <td>92.0</td>\n",
              "      <td>3.0</td>\n",
              "      <td>3.0</td>\n",
              "      <td>72.231111</td>\n",
              "      <td>0.0</td>\n",
              "      <td>4.0</td>\n",
              "      <td>4.0</td>\n",
              "      <td>0.0</td>\n",
              "      <td>20.0</td>\n",
              "      <td>Botnet ARES</td>\n",
              "    </tr>\n",
              "    <tr>\n",
              "      <th>3</th>\n",
              "      <td>48.714286</td>\n",
              "      <td>5711.696429</td>\n",
              "      <td>75.575766</td>\n",
              "      <td>8080.0</td>\n",
              "      <td>134.0</td>\n",
              "      <td>134.0</td>\n",
              "      <td>44.666667</td>\n",
              "      <td>44.666667</td>\n",
              "      <td>128.0</td>\n",
              "      <td>8192.0</td>\n",
              "      <td>...</td>\n",
              "      <td>92.0</td>\n",
              "      <td>3.0</td>\n",
              "      <td>3.0</td>\n",
              "      <td>72.231111</td>\n",
              "      <td>0.0</td>\n",
              "      <td>4.0</td>\n",
              "      <td>4.0</td>\n",
              "      <td>0.0</td>\n",
              "      <td>20.0</td>\n",
              "      <td>Botnet ARES</td>\n",
              "    </tr>\n",
              "    <tr>\n",
              "      <th>4</th>\n",
              "      <td>48.714286</td>\n",
              "      <td>5711.696429</td>\n",
              "      <td>75.575766</td>\n",
              "      <td>8080.0</td>\n",
              "      <td>134.0</td>\n",
              "      <td>134.0</td>\n",
              "      <td>44.666667</td>\n",
              "      <td>44.666667</td>\n",
              "      <td>128.0</td>\n",
              "      <td>8192.0</td>\n",
              "      <td>...</td>\n",
              "      <td>92.0</td>\n",
              "      <td>3.0</td>\n",
              "      <td>3.0</td>\n",
              "      <td>72.231111</td>\n",
              "      <td>0.0</td>\n",
              "      <td>4.0</td>\n",
              "      <td>4.0</td>\n",
              "      <td>0.0</td>\n",
              "      <td>20.0</td>\n",
              "      <td>Botnet ARES</td>\n",
              "    </tr>\n",
              "  </tbody>\n",
              "</table>\n",
              "<p>5 rows × 26 columns</p>\n",
              "</div>\n",
              "      <button class=\"colab-df-convert\" onclick=\"convertToInteractive('df-bfe867ca-ec51-47c0-a475-96b6aa90c83d')\"\n",
              "              title=\"Convert this dataframe to an interactive table.\"\n",
              "              style=\"display:none;\">\n",
              "        \n",
              "  <svg xmlns=\"http://www.w3.org/2000/svg\" height=\"24px\"viewBox=\"0 0 24 24\"\n",
              "       width=\"24px\">\n",
              "    <path d=\"M0 0h24v24H0V0z\" fill=\"none\"/>\n",
              "    <path d=\"M18.56 5.44l.94 2.06.94-2.06 2.06-.94-2.06-.94-.94-2.06-.94 2.06-2.06.94zm-11 1L8.5 8.5l.94-2.06 2.06-.94-2.06-.94L8.5 2.5l-.94 2.06-2.06.94zm10 10l.94 2.06.94-2.06 2.06-.94-2.06-.94-.94-2.06-.94 2.06-2.06.94z\"/><path d=\"M17.41 7.96l-1.37-1.37c-.4-.4-.92-.59-1.43-.59-.52 0-1.04.2-1.43.59L10.3 9.45l-7.72 7.72c-.78.78-.78 2.05 0 2.83L4 21.41c.39.39.9.59 1.41.59.51 0 1.02-.2 1.41-.59l7.78-7.78 2.81-2.81c.8-.78.8-2.07 0-2.86zM5.41 20L4 18.59l7.72-7.72 1.47 1.35L5.41 20z\"/>\n",
              "  </svg>\n",
              "      </button>\n",
              "      \n",
              "  <style>\n",
              "    .colab-df-container {\n",
              "      display:flex;\n",
              "      flex-wrap:wrap;\n",
              "      gap: 12px;\n",
              "    }\n",
              "\n",
              "    .colab-df-convert {\n",
              "      background-color: #E8F0FE;\n",
              "      border: none;\n",
              "      border-radius: 50%;\n",
              "      cursor: pointer;\n",
              "      display: none;\n",
              "      fill: #1967D2;\n",
              "      height: 32px;\n",
              "      padding: 0 0 0 0;\n",
              "      width: 32px;\n",
              "    }\n",
              "\n",
              "    .colab-df-convert:hover {\n",
              "      background-color: #E2EBFA;\n",
              "      box-shadow: 0px 1px 2px rgba(60, 64, 67, 0.3), 0px 1px 3px 1px rgba(60, 64, 67, 0.15);\n",
              "      fill: #174EA6;\n",
              "    }\n",
              "\n",
              "    [theme=dark] .colab-df-convert {\n",
              "      background-color: #3B4455;\n",
              "      fill: #D2E3FC;\n",
              "    }\n",
              "\n",
              "    [theme=dark] .colab-df-convert:hover {\n",
              "      background-color: #434B5C;\n",
              "      box-shadow: 0px 1px 3px 1px rgba(0, 0, 0, 0.15);\n",
              "      filter: drop-shadow(0px 1px 2px rgba(0, 0, 0, 0.3));\n",
              "      fill: #FFFFFF;\n",
              "    }\n",
              "  </style>\n",
              "\n",
              "      <script>\n",
              "        const buttonEl =\n",
              "          document.querySelector('#df-bfe867ca-ec51-47c0-a475-96b6aa90c83d button.colab-df-convert');\n",
              "        buttonEl.style.display =\n",
              "          google.colab.kernel.accessAllowed ? 'block' : 'none';\n",
              "\n",
              "        async function convertToInteractive(key) {\n",
              "          const element = document.querySelector('#df-bfe867ca-ec51-47c0-a475-96b6aa90c83d');\n",
              "          const dataTable =\n",
              "            await google.colab.kernel.invokeFunction('convertToInteractive',\n",
              "                                                     [key], {});\n",
              "          if (!dataTable) return;\n",
              "\n",
              "          const docLinkHtml = 'Like what you see? Visit the ' +\n",
              "            '<a target=\"_blank\" href=https://colab.research.google.com/notebooks/data_table.ipynb>data table notebook</a>'\n",
              "            + ' to learn more about interactive tables.';\n",
              "          element.innerHTML = '';\n",
              "          dataTable['output_type'] = 'display_data';\n",
              "          await google.colab.output.renderOutput(dataTable, element);\n",
              "          const docLink = document.createElement('div');\n",
              "          docLink.innerHTML = docLinkHtml;\n",
              "          element.appendChild(docLink);\n",
              "        }\n",
              "      </script>\n",
              "    </div>\n",
              "  </div>\n",
              "  "
            ]
          },
          "metadata": {},
          "execution_count": 37
        }
      ]
    },
    {
      "cell_type": "code",
      "source": [
        "X_res.shape"
      ],
      "metadata": {
        "colab": {
          "base_uri": "https://localhost:8080/"
        },
        "id": "NqSnXzFm3YzS",
        "outputId": "9aaac19b-8b86-4bc2-fc3f-40879db00fdd"
      },
      "execution_count": null,
      "outputs": [
        {
          "output_type": "execute_result",
          "data": {
            "text/plain": [
              "(280000, 26)"
            ]
          },
          "metadata": {},
          "execution_count": 38
        }
      ]
    },
    {
      "cell_type": "code",
      "source": [
        "X_res.to_csv(PROJECT_PATH+'/data25_CICIDS2017.csv')"
      ],
      "metadata": {
        "id": "6BLTTCtEPi1y"
      },
      "execution_count": null,
      "outputs": []
    }
  ],
  "metadata": {
    "colab": {
      "machine_shape": "hm",
      "toc_visible": true,
      "provenance": [],
      "gpuClass": "premium"
    },
    "gpuClass": "premium",
    "kernelspec": {
      "display_name": "Python 3",
      "name": "python3"
    },
    "language_info": {
      "name": "python"
    }
  },
  "nbformat": 4,
  "nbformat_minor": 0
}