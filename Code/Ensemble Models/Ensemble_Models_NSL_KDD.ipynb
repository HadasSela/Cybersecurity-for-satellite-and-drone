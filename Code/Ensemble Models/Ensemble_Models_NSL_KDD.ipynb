{
  "nbformat": 4,
  "nbformat_minor": 0,
  "metadata": {
    "colab": {
      "provenance": [],
      "toc_visible": true,
      "machine_shape": "hm",
      "gpuType": "A100"
    },
    "kernelspec": {
      "name": "python3",
      "display_name": "Python 3"
    },
    "language_info": {
      "name": "python"
    },
    "gpuClass": "standard",
    "accelerator": "GPU"
  },
  "cells": [
    {
      "cell_type": "markdown",
      "metadata": {
        "id": "gDe81yAjFQF8"
      },
      "source": [
        "## Import libraries"
      ]
    },
    {
      "cell_type": "code",
      "source": [
        "import numpy as np\n",
        "from PIL import Image\n",
        "from collections import defaultdict\n",
        "from google.colab import drive\n",
        "import pandas as pd\n",
        "import os.path\n",
        "# from sklearn.preprocessing import Imputer\n",
        "from sklearn.impute import SimpleImputer\n",
        "import xgboost as xgb\n",
        "from sklearn.metrics import accuracy_score,roc_auc_score\n",
        "import matplotlib as plt\n",
        "from sklearn.metrics import accuracy_score\n",
        "from sklearn.metrics import mean_squared_error\n",
        "from sklearn.linear_model import LogisticRegression\n",
        "from scipy.stats import mode\n",
        "from xgboost import XGBClassifier"
      ],
      "metadata": {
        "id": "ylNOzYkN2c5c"
      },
      "execution_count": null,
      "outputs": []
    },
    {
      "cell_type": "markdown",
      "metadata": {
        "id": "ZFYfH1Jw6KcW"
      },
      "source": [
        "##google drive"
      ]
    },
    {
      "cell_type": "code",
      "execution_count": null,
      "metadata": {
        "id": "0sl4LVbe8UU7"
      },
      "outputs": [],
      "source": [
        "PROJECT_PATH= '/content/drive/MyDrive/project/'"
      ]
    },
    {
      "cell_type": "code",
      "execution_count": null,
      "metadata": {
        "colab": {
          "base_uri": "https://localhost:8080/"
        },
        "id": "bJjQr58F6QG0",
        "outputId": "9223bf7a-8cbc-4867-827c-022ab6e80b01"
      },
      "outputs": [
        {
          "output_type": "stream",
          "name": "stdout",
          "text": [
            "Mounted at /content/drive\n"
          ]
        }
      ],
      "source": [
        "drive.mount('/content/drive', force_remount=True)"
      ]
    },
    {
      "cell_type": "markdown",
      "source": [
        "#Constants"
      ],
      "metadata": {
        "id": "5boImC2q4Hh_"
      }
    },
    {
      "cell_type": "code",
      "source": [
        "DATA='NSL-KDD'"
      ],
      "metadata": {
        "id": "pSGdcoQp4MdO"
      },
      "execution_count": null,
      "outputs": []
    },
    {
      "cell_type": "markdown",
      "source": [
        "# function"
      ],
      "metadata": {
        "id": "qxP0wlG23IHV"
      }
    },
    {
      "cell_type": "code",
      "source": [
        "def make_path_file(data,dir,file):\n",
        "  path1=os.path.join('training',data,dir,file)\n",
        "  path=PROJECT_PATH+path1\n",
        "  return path\n",
        "\n",
        "def calculate_performance(y_pred,test_generator):\n",
        "  y_pred_bool = np.argmax(y_pred, axis=1)\n",
        "  print(classification_report(test_generator.labels, y_pred_bool))\n",
        "\n",
        "\n",
        "\n",
        "def performance_evaluation_model(model,test_generator,verbose = 0):\n",
        "  y_pred = model.predict_generator(test_generator,verbose = verbose)\n",
        "  results =model.evaluate(test_generator, batch_size=BATCHSIZE,verbose = verbose)\n",
        "  # y_pred_bool = np.argmax(y_pred, axis=1)\n",
        "  print(f'accuracy:{results[1]}, loss: {results[0]}')\n",
        "  calculate_performance(y_pred,test_generator)\n",
        "  # print(classification_report(test_generator.labels, y_pred_bool))\n",
        "  return"
      ],
      "metadata": {
        "id": "WGygYUtO3LMq"
      },
      "execution_count": null,
      "outputs": []
    },
    {
      "cell_type": "markdown",
      "source": [
        "# read data"
      ],
      "metadata": {
        "id": "pgvt2HCs3b9C"
      }
    },
    {
      "cell_type": "code",
      "source": [
        "def read_data(name_file,dir):\n",
        "  path=make_path_file(DATA,dir,name_file)\n",
        "  data = pd.read_csv(path)\n",
        "  y=data['label']\n",
        "  X=data.drop(['Unnamed: 0','label'], axis=1)\n",
        "  # mputer = SimpleImputer()\n",
        "  # X = mputer.fit_transform(x)\n",
        "  return X.to_numpy(),y.to_numpy()\n"
      ],
      "metadata": {
        "id": "dFvv_5yk3rsv"
      },
      "execution_count": null,
      "outputs": []
    },
    {
      "cell_type": "markdown",
      "source": [
        "## train"
      ],
      "metadata": {
        "id": "rgOrPdmh3k7T"
      }
    },
    {
      "cell_type": "code",
      "source": [
        "train_X,train_y=read_data('train_pred.csv','predictions')"
      ],
      "metadata": {
        "id": "CKo5zs8A5kyh"
      },
      "execution_count": null,
      "outputs": []
    },
    {
      "cell_type": "code",
      "source": [
        "train_X.shape"
      ],
      "metadata": {
        "colab": {
          "base_uri": "https://localhost:8080/"
        },
        "id": "cvftyFO2nrv2",
        "outputId": "c423d84e-f500-4391-bc9b-77d4a28024f0"
      },
      "execution_count": null,
      "outputs": [
        {
          "output_type": "execute_result",
          "data": {
            "text/plain": [
              "(224352, 15)"
            ]
          },
          "metadata": {},
          "execution_count": 8
        }
      ]
    },
    {
      "cell_type": "markdown",
      "source": [
        "## test"
      ],
      "metadata": {
        "id": "uf_qzDyL6b8j"
      }
    },
    {
      "cell_type": "code",
      "source": [
        "test_X,test_y=read_data('test_pred.csv','predictions')"
      ],
      "metadata": {
        "id": "UeF8gYog3bUp"
      },
      "execution_count": null,
      "outputs": []
    },
    {
      "cell_type": "code",
      "source": [
        "type(test_X)"
      ],
      "metadata": {
        "colab": {
          "base_uri": "https://localhost:8080/"
        },
        "id": "OxAY-XTB90Jg",
        "outputId": "ae93fdd2-004b-46c2-c6ad-19d8c5730e55"
      },
      "execution_count": null,
      "outputs": [
        {
          "output_type": "execute_result",
          "data": {
            "text/plain": [
              "numpy.ndarray"
            ]
          },
          "metadata": {},
          "execution_count": 10
        }
      ]
    },
    {
      "cell_type": "markdown",
      "source": [
        "# model"
      ],
      "metadata": {
        "id": "IF729A0G6q7W"
      }
    },
    {
      "cell_type": "code",
      "source": [
        "def modelfit(alg, X, y,useTrainCV=True, cv_folds=5, early_stopping_rounds=50,verbose_eval=None):\n",
        "\n",
        "    if useTrainCV:\n",
        "        xgb_param = alg.get_xgb_params()\n",
        "        xgtrain = xgb.DMatrix(X, label=y)\n",
        "        cvresult = xgb.cv(xgb_param, xgtrain, num_boost_round=alg.n_estimators, nfold=cv_folds,\n",
        "            metrics=xgb_param['eval_metric'], early_stopping_rounds=early_stopping_rounds,verbose_eval=verbose_eval)\n",
        "        alg.set_params(n_estimators=cvresult.shape[0])\n",
        "\n",
        "    #Fit the algorithm on the data\n",
        "    alg.fit(X,y)\n",
        "\n",
        "    #Predict training set:\n",
        "    dtrain_predictions = alg.predict(X)\n",
        "    # dtrain_predprob = alg.predict_proba(y)[:,1]\n",
        "    # print(len(dtrain_predictions), len(y))\n",
        "\n",
        "    #Print model report:\n",
        "    print( \"\\nModel Report\")\n",
        "    print (f\"Accuracy : {accuracy_score(y, dtrain_predictions)}\")\n",
        "    # print (f\"AUC Score (Train): {roc_auc_score(y, dtrain_predprob, multi_class='ovr')}\")\n",
        "\n",
        "    # feat_imp = pd.Series(alg.booster().get_fscore()).sort_values(ascending=False)\n",
        "    # feat_imp.plot(kind='bar', title='Feature Importances')\n",
        "    # plt.ylabel('Feature Importance Score')"
      ],
      "metadata": {
        "id": "T--D79eOXuEN"
      },
      "execution_count": null,
      "outputs": []
    },
    {
      "cell_type": "markdown",
      "source": [
        "## Run"
      ],
      "metadata": {
        "id": "qKA7nR9Kz_-4"
      }
    },
    {
      "cell_type": "code",
      "source": [
        "\n",
        "\n",
        "my_model = XGBClassifier(learning_rate =0.1,\n",
        " eval_metric='auc',\n",
        " n_estimators=1000,\n",
        " max_depth=5,\n",
        " min_child_weight=1,\n",
        " gamma=0,\n",
        " subsample=0.8,\n",
        " colsample_bytree=0.8,\n",
        " objective= 'multi:softprob',\n",
        " tree_method='gpu_hist',\n",
        " nthread=4,\n",
        "#  scale_pos_weight=1,\n",
        " seed=27,\n",
        " num_class=5,\n",
        ")\n",
        "\n"
      ],
      "metadata": {
        "id": "JgIHaq1c6tAy"
      },
      "execution_count": null,
      "outputs": []
    },
    {
      "cell_type": "code",
      "source": [
        "modelfit(my_model, train_X, train_y,verbose_eval=100)"
      ],
      "metadata": {
        "colab": {
          "base_uri": "https://localhost:8080/"
        },
        "id": "d3fQ5DFJbgoD",
        "outputId": "9f4a8b88-9b2c-48b9-ad8c-e5328bd17f6a"
      },
      "execution_count": null,
      "outputs": [
        {
          "output_type": "stream",
          "name": "stdout",
          "text": [
            "[0]\ttrain-auc:0.99853+0.00002\ttest-auc:0.99848+0.00008\n",
            "[100]\ttrain-auc:0.99908+0.00001\ttest-auc:0.99886+0.00003\n",
            "[197]\ttrain-auc:0.99936+0.00001\ttest-auc:0.99887+0.00003\n",
            "\n",
            "Model Report\n",
            "Accuracy : 0.976545785194694\n"
          ]
        }
      ]
    },
    {
      "cell_type": "markdown",
      "source": [
        "## Check Score"
      ],
      "metadata": {
        "id": "96KZYz300HLo"
      }
    },
    {
      "cell_type": "code",
      "source": [
        "y_test_pred = my_model.predict(test_X)"
      ],
      "metadata": {
        "id": "42yDBPa965Md"
      },
      "execution_count": null,
      "outputs": []
    },
    {
      "cell_type": "code",
      "source": [
        "score = my_model.score(test_X, test_y)\n",
        "print(\"test score: \", score)"
      ],
      "metadata": {
        "colab": {
          "base_uri": "https://localhost:8080/"
        },
        "id": "_hegWG-u77sh",
        "outputId": "86c1dcfa-42af-47a4-bbee-cf0c1cfe14a2"
      },
      "execution_count": null,
      "outputs": [
        {
          "output_type": "stream",
          "name": "stdout",
          "text": [
            "test score:  0.9703674648314227\n"
          ]
        }
      ]
    },
    {
      "cell_type": "code",
      "source": [
        "score = my_model.score(train_X,train_y)\n",
        "print(\"Training score: \", score)"
      ],
      "metadata": {
        "colab": {
          "base_uri": "https://localhost:8080/"
        },
        "id": "xHK3L6Bb_-dc",
        "outputId": "10786844-2310-4fd2-9bdf-7c14d031e8ab"
      },
      "execution_count": null,
      "outputs": [
        {
          "output_type": "stream",
          "name": "stdout",
          "text": [
            "Training score:  0.976545785194694\n"
          ]
        }
      ]
    },
    {
      "cell_type": "markdown",
      "source": [
        "## Save"
      ],
      "metadata": {
        "id": "gokDtUmrz0sr"
      }
    },
    {
      "cell_type": "code",
      "source": [
        "path=make_path_file(DATA,'model',\"xgb\")\n",
        "my_model.save_model(path)"
      ],
      "metadata": {
        "id": "vmX_5WGrvRoa"
      },
      "execution_count": null,
      "outputs": []
    },
    {
      "cell_type": "markdown",
      "source": [
        "## Load"
      ],
      "metadata": {
        "id": "4ljPNbE_zrGX"
      }
    },
    {
      "cell_type": "code",
      "source": [
        "path=make_path_file(DATA,'model',\"xgb\")\n",
        "my_model1 = XGBClassifier()\n",
        "my_model1.load_model(path)"
      ],
      "metadata": {
        "id": "nkOd0_9czJpd"
      },
      "execution_count": null,
      "outputs": []
    },
    {
      "cell_type": "code",
      "source": [
        "from sklearn.metrics import classification_report\n",
        "score = my_model1.score(test_X, test_y)\n",
        "print(\"test score: \", score)\n",
        "pred=my_model1.predict(test_X)\n",
        "print(classification_report(test_y, pred))\n"
      ],
      "metadata": {
        "id": "Lx8EVWgc0aSX",
        "outputId": "5c7ba83c-1e1d-40e0-ad1f-902c250ba8db",
        "colab": {
          "base_uri": "https://localhost:8080/"
        }
      },
      "execution_count": null,
      "outputs": [
        {
          "output_type": "stream",
          "name": "stdout",
          "text": [
            "test score:  0.9703674648314227\n",
            "              precision    recall  f1-score   support\n",
            "\n",
            "           0       1.00      0.99      0.99     15284\n",
            "           1       0.99      0.99      0.99     10711\n",
            "           2       0.93      0.92      0.93     10113\n",
            "           3       0.99      0.99      0.99      9938\n",
            "           4       0.92      0.94      0.93     10041\n",
            "\n",
            "    accuracy                           0.97     56087\n",
            "   macro avg       0.97      0.97      0.97     56087\n",
            "weighted avg       0.97      0.97      0.97     56087\n",
            "\n"
          ]
        }
      ]
    },
    {
      "cell_type": "code",
      "source": [
        "from sklearn.metrics import classification_report\n",
        "pred=my_model1.predict(test_X)\n",
        "pred[pred > 0] = 1\n",
        "test_y[test_y>0]=1\n",
        "print(classification_report(test_y, pred))"
      ],
      "metadata": {
        "colab": {
          "base_uri": "https://localhost:8080/"
        },
        "id": "trgXDsELGZVN",
        "outputId": "aa7102f1-95a3-4dbc-caec-e7a49c096db1"
      },
      "execution_count": null,
      "outputs": [
        {
          "output_type": "stream",
          "name": "stdout",
          "text": [
            "              precision    recall  f1-score   support\n",
            "\n",
            "           0       1.00      0.99      0.99     15284\n",
            "           1       1.00      1.00      1.00     40803\n",
            "\n",
            "    accuracy                           1.00     56087\n",
            "   macro avg       1.00      1.00      1.00     56087\n",
            "weighted avg       1.00      1.00      1.00     56087\n",
            "\n"
          ]
        }
      ]
    },
    {
      "cell_type": "markdown",
      "source": [
        "# Logistic Regression"
      ],
      "metadata": {
        "id": "U4PcNmU4wqBr"
      }
    },
    {
      "cell_type": "code",
      "source": [
        "mmodel = LogisticRegression(solver='saga')\n",
        "mmodel.fit(train_X, train_y)"
      ],
      "metadata": {
        "colab": {
          "base_uri": "https://localhost:8080/",
          "height": 75
        },
        "id": "_VNYv6kIwyiZ",
        "outputId": "1cb611df-cb0f-4c54-f750-a150cd2dcd20"
      },
      "execution_count": null,
      "outputs": [
        {
          "output_type": "execute_result",
          "data": {
            "text/plain": [
              "LogisticRegression(solver='saga')"
            ],
            "text/html": [
              "<style>#sk-container-id-1 {color: black;background-color: white;}#sk-container-id-1 pre{padding: 0;}#sk-container-id-1 div.sk-toggleable {background-color: white;}#sk-container-id-1 label.sk-toggleable__label {cursor: pointer;display: block;width: 100%;margin-bottom: 0;padding: 0.3em;box-sizing: border-box;text-align: center;}#sk-container-id-1 label.sk-toggleable__label-arrow:before {content: \"▸\";float: left;margin-right: 0.25em;color: #696969;}#sk-container-id-1 label.sk-toggleable__label-arrow:hover:before {color: black;}#sk-container-id-1 div.sk-estimator:hover label.sk-toggleable__label-arrow:before {color: black;}#sk-container-id-1 div.sk-toggleable__content {max-height: 0;max-width: 0;overflow: hidden;text-align: left;background-color: #f0f8ff;}#sk-container-id-1 div.sk-toggleable__content pre {margin: 0.2em;color: black;border-radius: 0.25em;background-color: #f0f8ff;}#sk-container-id-1 input.sk-toggleable__control:checked~div.sk-toggleable__content {max-height: 200px;max-width: 100%;overflow: auto;}#sk-container-id-1 input.sk-toggleable__control:checked~label.sk-toggleable__label-arrow:before {content: \"▾\";}#sk-container-id-1 div.sk-estimator input.sk-toggleable__control:checked~label.sk-toggleable__label {background-color: #d4ebff;}#sk-container-id-1 div.sk-label input.sk-toggleable__control:checked~label.sk-toggleable__label {background-color: #d4ebff;}#sk-container-id-1 input.sk-hidden--visually {border: 0;clip: rect(1px 1px 1px 1px);clip: rect(1px, 1px, 1px, 1px);height: 1px;margin: -1px;overflow: hidden;padding: 0;position: absolute;width: 1px;}#sk-container-id-1 div.sk-estimator {font-family: monospace;background-color: #f0f8ff;border: 1px dotted black;border-radius: 0.25em;box-sizing: border-box;margin-bottom: 0.5em;}#sk-container-id-1 div.sk-estimator:hover {background-color: #d4ebff;}#sk-container-id-1 div.sk-parallel-item::after {content: \"\";width: 100%;border-bottom: 1px solid gray;flex-grow: 1;}#sk-container-id-1 div.sk-label:hover label.sk-toggleable__label {background-color: #d4ebff;}#sk-container-id-1 div.sk-serial::before {content: \"\";position: absolute;border-left: 1px solid gray;box-sizing: border-box;top: 0;bottom: 0;left: 50%;z-index: 0;}#sk-container-id-1 div.sk-serial {display: flex;flex-direction: column;align-items: center;background-color: white;padding-right: 0.2em;padding-left: 0.2em;position: relative;}#sk-container-id-1 div.sk-item {position: relative;z-index: 1;}#sk-container-id-1 div.sk-parallel {display: flex;align-items: stretch;justify-content: center;background-color: white;position: relative;}#sk-container-id-1 div.sk-item::before, #sk-container-id-1 div.sk-parallel-item::before {content: \"\";position: absolute;border-left: 1px solid gray;box-sizing: border-box;top: 0;bottom: 0;left: 50%;z-index: -1;}#sk-container-id-1 div.sk-parallel-item {display: flex;flex-direction: column;z-index: 1;position: relative;background-color: white;}#sk-container-id-1 div.sk-parallel-item:first-child::after {align-self: flex-end;width: 50%;}#sk-container-id-1 div.sk-parallel-item:last-child::after {align-self: flex-start;width: 50%;}#sk-container-id-1 div.sk-parallel-item:only-child::after {width: 0;}#sk-container-id-1 div.sk-dashed-wrapped {border: 1px dashed gray;margin: 0 0.4em 0.5em 0.4em;box-sizing: border-box;padding-bottom: 0.4em;background-color: white;}#sk-container-id-1 div.sk-label label {font-family: monospace;font-weight: bold;display: inline-block;line-height: 1.2em;}#sk-container-id-1 div.sk-label-container {text-align: center;}#sk-container-id-1 div.sk-container {/* jupyter's `normalize.less` sets `[hidden] { display: none; }` but bootstrap.min.css set `[hidden] { display: none !important; }` so we also need the `!important` here to be able to override the default hidden behavior on the sphinx rendered scikit-learn.org. See: https://github.com/scikit-learn/scikit-learn/issues/21755 */display: inline-block !important;position: relative;}#sk-container-id-1 div.sk-text-repr-fallback {display: none;}</style><div id=\"sk-container-id-1\" class=\"sk-top-container\"><div class=\"sk-text-repr-fallback\"><pre>LogisticRegression(solver=&#x27;saga&#x27;)</pre><b>In a Jupyter environment, please rerun this cell to show the HTML representation or trust the notebook. <br />On GitHub, the HTML representation is unable to render, please try loading this page with nbviewer.org.</b></div><div class=\"sk-container\" hidden><div class=\"sk-item\"><div class=\"sk-estimator sk-toggleable\"><input class=\"sk-toggleable__control sk-hidden--visually\" id=\"sk-estimator-id-1\" type=\"checkbox\" checked><label for=\"sk-estimator-id-1\" class=\"sk-toggleable__label sk-toggleable__label-arrow\">LogisticRegression</label><div class=\"sk-toggleable__content\"><pre>LogisticRegression(solver=&#x27;saga&#x27;)</pre></div></div></div></div></div>"
            ]
          },
          "metadata": {},
          "execution_count": 27
        }
      ]
    },
    {
      "cell_type": "code",
      "source": [
        "score = mmodel.score(train_X,train_y)\n",
        "print(\"Training score: \", score)"
      ],
      "metadata": {
        "colab": {
          "base_uri": "https://localhost:8080/"
        },
        "id": "VluOY_zDyNrc",
        "outputId": "dc7725ea-2d05-45c2-9b4d-c16144775ba8"
      },
      "execution_count": null,
      "outputs": [
        {
          "output_type": "stream",
          "name": "stdout",
          "text": [
            "Training score:  0.9658884253316218\n"
          ]
        }
      ]
    },
    {
      "cell_type": "code",
      "source": [
        "score = mmodel.score(test_X, test_y)\n",
        "print(\"test score: \", score)"
      ],
      "metadata": {
        "colab": {
          "base_uri": "https://localhost:8080/"
        },
        "id": "Pa6n76qDyTEz",
        "outputId": "e44a9ac7-b789-4968-9753-74705e25ff10"
      },
      "execution_count": null,
      "outputs": [
        {
          "output_type": "stream",
          "name": "stdout",
          "text": [
            "test score:  0.9628969279868775\n"
          ]
        }
      ]
    },
    {
      "cell_type": "markdown",
      "source": [
        "# Soft vote"
      ],
      "metadata": {
        "id": "92cj7f8UzPov"
      }
    },
    {
      "cell_type": "code",
      "source": [
        "X1_test=test_X[:,range(5)]\n",
        "Y1_test=X1_test.argmax(axis=1)"
      ],
      "metadata": {
        "id": "ru4bogzjzUuJ"
      },
      "execution_count": null,
      "outputs": []
    },
    {
      "cell_type": "code",
      "source": [
        "accuracy_score(test_y, Y1_test)"
      ],
      "metadata": {
        "colab": {
          "base_uri": "https://localhost:8080/"
        },
        "id": "czOmQY-B5zqj",
        "outputId": "fa0b3cc0-cfad-408f-91f3-fed42b15ac0f"
      },
      "execution_count": null,
      "outputs": [
        {
          "output_type": "execute_result",
          "data": {
            "text/plain": [
              "0.9640558418171769"
            ]
          },
          "metadata": {},
          "execution_count": 183
        }
      ]
    },
    {
      "cell_type": "code",
      "source": [
        "X1_train=train_X[:,range(5)]\n",
        "Y1_train=X1_train.argmax(axis=1)"
      ],
      "metadata": {
        "id": "B-haEVEE6Y0H"
      },
      "execution_count": null,
      "outputs": []
    },
    {
      "cell_type": "code",
      "source": [
        "accuracy_score(train_y, Y1_train)"
      ],
      "metadata": {
        "colab": {
          "base_uri": "https://localhost:8080/"
        },
        "id": "My6arcFM6xkc",
        "outputId": "47dda321-cee5-4807-c2a7-b0e6f327ad81"
      },
      "execution_count": null,
      "outputs": [
        {
          "output_type": "execute_result",
          "data": {
            "text/plain": [
              "0.9663965554129226"
            ]
          },
          "metadata": {},
          "execution_count": 185
        }
      ]
    },
    {
      "cell_type": "code",
      "source": [
        "def get_accuracy(y, pred):\n",
        "  y_pred=pred.argmax(axis=1)\n",
        "  return accuracy_score(y, y_pred)\n",
        "\n",
        "def get_X_for_model(X,i, num_classes):\n",
        "  start=i*num_classes\n",
        "  end=start+num_classes\n",
        "  return X[:,range(start,end)]\n",
        "\n",
        "def soft_vote(X,y, num_models=3, num_classes=5):\n",
        "  list=[get_X_for_model(X,i, num_classes) for i in range(num_models)]\n",
        "  for i,pred in enumerate(list):\n",
        "    print(f'Accuracy for {i}: {get_accuracy(y, pred)}')\n",
        "  pred=sum(list)\n",
        "  print(f'Soft vote accuracy={get_accuracy(y, pred)}')"
      ],
      "metadata": {
        "id": "eZyU69k-YdRZ"
      },
      "execution_count": null,
      "outputs": []
    },
    {
      "cell_type": "code",
      "source": [
        "soft_vote(test_X,test_y)"
      ],
      "metadata": {
        "colab": {
          "base_uri": "https://localhost:8080/"
        },
        "id": "HMZZH-77Zncd",
        "outputId": "e7414060-c3da-4d98-9259-677b2e390d4c"
      },
      "execution_count": null,
      "outputs": [
        {
          "output_type": "stream",
          "name": "stdout",
          "text": [
            "Accuracy for 0: 0.9640558418171769\n",
            "Accuracy for 1: 0.9712945958956621\n",
            "Accuracy for 2: 0.9639310357123754\n",
            "Soft vote accuracy=0.9698682404122168\n"
          ]
        }
      ]
    },
    {
      "cell_type": "markdown",
      "source": [
        "# Hard vote"
      ],
      "metadata": {
        "id": "ZVqTS7Ixc2Y9"
      }
    },
    {
      "cell_type": "code",
      "source": [
        "def hard_vote(X,y, num_models=3, num_classes=5):\n",
        "   list=[get_X_for_model(X,i, num_classes) for i in range(num_models)]\n",
        "   for i,pred in enumerate(list):\n",
        "     print(f'Accuracy for {i}: {get_accuracy(y, pred)}')\n",
        "   pred_list=[p.argmax(axis=1) for p in list]\n",
        "   pred_array=np.vstack(pred_list).transpose()\n",
        "   pred= mode(pred_array, axis=-1)[0].flatten()\n",
        "   print(f'Hard vote accuracy={accuracy_score(y, pred)}')\n",
        "   print(pred.shape,y.shape)\n",
        "   return pred_array, pred_list\n"
      ],
      "metadata": {
        "id": "zlpj9wvUZt9c"
      },
      "execution_count": null,
      "outputs": []
    },
    {
      "cell_type": "code",
      "source": [
        "pred_array, pred_list=hard_vote(test_X,test_y)"
      ],
      "metadata": {
        "colab": {
          "base_uri": "https://localhost:8080/"
        },
        "id": "QtLA8MZZdTXO",
        "outputId": "4aa4ed0d-985d-4083-f5f3-9d7443b7b95b"
      },
      "execution_count": null,
      "outputs": [
        {
          "output_type": "stream",
          "name": "stdout",
          "text": [
            "Accuracy for 0: 0.9640558418171769\n",
            "Accuracy for 1: 0.9712945958956621\n",
            "Accuracy for 2: 0.9639310357123754\n"
          ]
        },
        {
          "output_type": "stream",
          "name": "stderr",
          "text": [
            "<ipython-input-75-200845f35c93>:7: FutureWarning: Unlike other reduction functions (e.g. `skew`, `kurtosis`), the default behavior of `mode` typically preserves the axis it acts along. In SciPy 1.11.0, this behavior will change: the default value of `keepdims` will become False, the `axis` over which the statistic is taken will be eliminated, and the value None will no longer be accepted. Set `keepdims` to True or False to avoid this warning.\n",
            "  pred= mode(pred_array, axis=-1)[0].flatten()\n"
          ]
        },
        {
          "output_type": "stream",
          "name": "stdout",
          "text": [
            "Hard vote accuracy=0.9671938238807567\n",
            "(56087,) (56087,)\n"
          ]
        }
      ]
    },
    {
      "cell_type": "code",
      "source": [
        "idx=15284"
      ],
      "metadata": {
        "id": "UTt-y4N6lvt3"
      },
      "execution_count": null,
      "outputs": []
    },
    {
      "cell_type": "code",
      "source": [
        "pred_array[idx]"
      ],
      "metadata": {
        "colab": {
          "base_uri": "https://localhost:8080/"
        },
        "id": "GzMFDdsXl-cf",
        "outputId": "c89e8f82-193a-4137-995c-9a38df17b30d"
      },
      "execution_count": null,
      "outputs": [
        {
          "output_type": "execute_result",
          "data": {
            "text/plain": [
              "array([1, 1, 1])"
            ]
          },
          "metadata": {},
          "execution_count": 74
        }
      ]
    },
    {
      "cell_type": "code",
      "source": [
        "pred_array.shape"
      ],
      "metadata": {
        "colab": {
          "base_uri": "https://localhost:8080/"
        },
        "id": "3dZ5Qo4Onm9g",
        "outputId": "af2983a4-1f97-4d4f-ce06-5bef13bd7e71"
      },
      "execution_count": null,
      "outputs": [
        {
          "output_type": "execute_result",
          "data": {
            "text/plain": [
              "(56087, 3)"
            ]
          },
          "metadata": {},
          "execution_count": 71
        }
      ]
    },
    {
      "cell_type": "code",
      "source": [
        "[pred_list[i][idx] for i in range(3)]"
      ],
      "metadata": {
        "colab": {
          "base_uri": "https://localhost:8080/"
        },
        "id": "dkInhNTceU09",
        "outputId": "a09e420d-7ffd-4d22-c51e-c9f839b0aabf"
      },
      "execution_count": null,
      "outputs": [
        {
          "output_type": "execute_result",
          "data": {
            "text/plain": [
              "[1, 1, 1]"
            ]
          },
          "metadata": {},
          "execution_count": 56
        }
      ]
    },
    {
      "cell_type": "code",
      "source": [
        "test_y[15284]"
      ],
      "metadata": {
        "colab": {
          "base_uri": "https://localhost:8080/"
        },
        "id": "ugKoG7D5lkNy",
        "outputId": "212fff73-1432-46d2-f7fa-94c375aeea79"
      },
      "execution_count": null,
      "outputs": [
        {
          "output_type": "execute_result",
          "data": {
            "text/plain": [
              "1"
            ]
          },
          "metadata": {},
          "execution_count": 43
        }
      ]
    },
    {
      "cell_type": "code",
      "source": [
        "np.nonzero(test_y)"
      ],
      "metadata": {
        "colab": {
          "base_uri": "https://localhost:8080/"
        },
        "id": "SnYEe6z4kLg1",
        "outputId": "b1935caf-c08b-4b86-ac8d-e9e2504fa073"
      },
      "execution_count": null,
      "outputs": [
        {
          "output_type": "execute_result",
          "data": {
            "text/plain": [
              "(array([15284, 15285, 15286, ..., 56084, 56085, 56086]),)"
            ]
          },
          "metadata": {},
          "execution_count": 41
        }
      ]
    }
  ]
}