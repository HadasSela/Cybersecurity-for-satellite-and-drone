{
  "nbformat": 4,
  "nbformat_minor": 0,
  "metadata": {
    "colab": {
      "provenance": [],
      "toc_visible": true,
      "machine_shape": "hm"
    },
    "kernelspec": {
      "name": "python3",
      "display_name": "Python 3"
    },
    "language_info": {
      "name": "python"
    },
    "gpuClass": "standard"
  },
  "cells": [
    {
      "cell_type": "markdown",
      "metadata": {
        "id": "gDe81yAjFQF8"
      },
      "source": [
        "## Import libraries"
      ]
    },
    {
      "cell_type": "code",
      "source": [
        "import numpy as np\n",
        "from PIL import Image\n",
        "from collections import defaultdict\n",
        "from google.colab import drive\n",
        "import pandas as pd\n",
        "import os.path\n",
        "# from sklearn.preprocessing import Imputer\n",
        "# from sklearn.impute import SimpleImputer\n",
        "import xgboost as xgb\n",
        "from sklearn.metrics import accuracy_score,roc_auc_score\n",
        "import matplotlib as plt\n",
        "from sklearn.metrics import accuracy_score\n",
        "from sklearn.metrics import mean_squared_error\n",
        "from sklearn.linear_model import LogisticRegression\n",
        "from scipy.stats import mode\n",
        "from xgboost import XGBClassifier"
      ],
      "metadata": {
        "id": "ylNOzYkN2c5c"
      },
      "execution_count": null,
      "outputs": []
    },
    {
      "cell_type": "code",
      "source": [
        "import scipy\n",
        "print(scipy.__version__)"
      ],
      "metadata": {
        "colab": {
          "base_uri": "https://localhost:8080/"
        },
        "id": "LCW5ZNuGgxVc",
        "outputId": "bd3552df-3c7f-4a72-9c3d-d35bf5baed61"
      },
      "execution_count": null,
      "outputs": [
        {
          "output_type": "stream",
          "name": "stdout",
          "text": [
            "1.10.1\n"
          ]
        }
      ]
    },
    {
      "cell_type": "markdown",
      "metadata": {
        "id": "ZFYfH1Jw6KcW"
      },
      "source": [
        "##google drive"
      ]
    },
    {
      "cell_type": "code",
      "execution_count": null,
      "metadata": {
        "id": "0sl4LVbe8UU7"
      },
      "outputs": [],
      "source": [
        "PROJECT_PATH= '/content/drive/MyDrive/project/'"
      ]
    },
    {
      "cell_type": "code",
      "execution_count": null,
      "metadata": {
        "colab": {
          "base_uri": "https://localhost:8080/"
        },
        "id": "bJjQr58F6QG0",
        "outputId": "8f2a1192-587c-41a0-d1cd-b67395d95c12"
      },
      "outputs": [
        {
          "output_type": "stream",
          "name": "stdout",
          "text": [
            "Mounted at /content/drive\n"
          ]
        }
      ],
      "source": [
        "drive.mount('/content/drive', force_remount=True)"
      ]
    },
    {
      "cell_type": "markdown",
      "source": [
        "#Constants"
      ],
      "metadata": {
        "id": "5boImC2q4Hh_"
      }
    },
    {
      "cell_type": "code",
      "source": [
        "# DATA='NSL-KDD'\n",
        "DATA='CICIDS2017'"
      ],
      "metadata": {
        "id": "pSGdcoQp4MdO"
      },
      "execution_count": null,
      "outputs": []
    },
    {
      "cell_type": "markdown",
      "source": [
        "# function"
      ],
      "metadata": {
        "id": "qxP0wlG23IHV"
      }
    },
    {
      "cell_type": "code",
      "source": [
        "def make_path_file(data,dir,file):\n",
        "  path1=os.path.join('training',data,dir,file)\n",
        "  path=PROJECT_PATH+path1\n",
        "  return path\n",
        "\n",
        "def calculate_performance(y_pred,test_generator):\n",
        "  y_pred_bool = np.argmax(y_pred, axis=1)\n",
        "  print(classification_report(test_generator.labels, y_pred_bool))\n",
        "\n",
        "\n",
        "\n",
        "def performance_evaluation_model(model,test_generator,verbose = 0):\n",
        "  y_pred = model.predict_generator(test_generator,verbose = verbose)\n",
        "  results =model.evaluate(test_generator, batch_size=BATCHSIZE,verbose = verbose)\n",
        "  # y_pred_bool = np.argmax(y_pred, axis=1)\n",
        "  print(f'accuracy:{results[1]}, loss: {results[0]}')\n",
        "  calculate_performance(y_pred,test_generator)\n",
        "  # print(classification_report(test_generator.labels, y_pred_bool))\n",
        "  return"
      ],
      "metadata": {
        "id": "WGygYUtO3LMq"
      },
      "execution_count": null,
      "outputs": []
    },
    {
      "cell_type": "markdown",
      "source": [
        "# read data"
      ],
      "metadata": {
        "id": "pgvt2HCs3b9C"
      }
    },
    {
      "cell_type": "code",
      "source": [
        "def read_data(name_file,dir):\n",
        "  path=make_path_file(DATA,dir,name_file)\n",
        "  data = pd.read_csv(path)\n",
        "  y=data['label']\n",
        "  X=data.drop(['Unnamed: 0','label'], axis=1)\n",
        "  # mputer = SimpleImputer()\n",
        "  # X = mputer.fit_transform(x)\n",
        "  return X.to_numpy(),y.to_numpy()\n"
      ],
      "metadata": {
        "id": "dFvv_5yk3rsv"
      },
      "execution_count": null,
      "outputs": []
    },
    {
      "cell_type": "markdown",
      "source": [
        "## train"
      ],
      "metadata": {
        "id": "rgOrPdmh3k7T"
      }
    },
    {
      "cell_type": "code",
      "source": [
        "train_X,train_y=read_data('train_pred.csv','predictions')"
      ],
      "metadata": {
        "id": "CKo5zs8A5kyh"
      },
      "execution_count": null,
      "outputs": []
    },
    {
      "cell_type": "code",
      "source": [
        "train_X.shape"
      ],
      "metadata": {
        "colab": {
          "base_uri": "https://localhost:8080/"
        },
        "id": "cvftyFO2nrv2",
        "outputId": "1802aa1e-9663-4f94-b087-45e10a8a421c"
      },
      "execution_count": null,
      "outputs": [
        {
          "output_type": "execute_result",
          "data": {
            "text/plain": [
              "(224000, 21)"
            ]
          },
          "metadata": {},
          "execution_count": 8
        }
      ]
    },
    {
      "cell_type": "markdown",
      "source": [
        "## test"
      ],
      "metadata": {
        "id": "uf_qzDyL6b8j"
      }
    },
    {
      "cell_type": "code",
      "source": [
        "test_X,test_y=read_data('test_pred.csv','predictions')"
      ],
      "metadata": {
        "id": "UeF8gYog3bUp"
      },
      "execution_count": null,
      "outputs": []
    },
    {
      "cell_type": "code",
      "source": [
        "type(test_X)"
      ],
      "metadata": {
        "colab": {
          "base_uri": "https://localhost:8080/"
        },
        "id": "OxAY-XTB90Jg",
        "outputId": "48c2b61c-e4d0-48d9-d0d6-040d914d2fc1"
      },
      "execution_count": null,
      "outputs": [
        {
          "output_type": "execute_result",
          "data": {
            "text/plain": [
              "numpy.ndarray"
            ]
          },
          "metadata": {},
          "execution_count": 10
        }
      ]
    },
    {
      "cell_type": "markdown",
      "source": [
        "# model"
      ],
      "metadata": {
        "id": "IF729A0G6q7W"
      }
    },
    {
      "cell_type": "code",
      "source": [
        "def modelfit(alg, X, y,useTrainCV=True, cv_folds=5, early_stopping_rounds=50,verbose_eval=None):\n",
        "\n",
        "    if useTrainCV:\n",
        "        xgb_param = alg.get_xgb_params()\n",
        "        xgtrain = xgb.DMatrix(X, label=y)\n",
        "        cvresult = xgb.cv(xgb_param, xgtrain, num_boost_round=alg.n_estimators, nfold=cv_folds,\n",
        "            metrics=xgb_param['eval_metric'], early_stopping_rounds=early_stopping_rounds,verbose_eval=verbose_eval)\n",
        "        alg.set_params(n_estimators=cvresult.shape[0])\n",
        "\n",
        "    #Fit the algorithm on the data\n",
        "    alg.fit(X,y)\n",
        "\n",
        "    #Predict training set:\n",
        "    dtrain_predictions = alg.predict(X)\n",
        "    # dtrain_predprob = alg.predict_proba(y)[:,1]\n",
        "    # print(len(dtrain_predictions), len(y))\n",
        "\n",
        "    #Print model report:\n",
        "    print( \"\\nModel Report\")\n",
        "    print (f\"Accuracy : {accuracy_score(y, dtrain_predictions)}\")\n",
        "    # print (f\"AUC Score (Train): {roc_auc_score(y, dtrain_predprob, multi_class='ovr')}\")\n",
        "\n",
        "    # feat_imp = pd.Series(alg.booster().get_fscore()).sort_values(ascending=False)\n",
        "    # feat_imp.plot(kind='bar', title='Feature Importances')\n",
        "    # plt.ylabel('Feature Importance Score')"
      ],
      "metadata": {
        "id": "T--D79eOXuEN"
      },
      "execution_count": null,
      "outputs": []
    },
    {
      "cell_type": "markdown",
      "source": [
        "## Run"
      ],
      "metadata": {
        "id": "qKA7nR9Kz_-4"
      }
    },
    {
      "cell_type": "code",
      "source": [
        "\n",
        "\n",
        "my_model = XGBClassifier(learning_rate =0.1,\n",
        " eval_metric='auc',\n",
        " n_estimators=1000,\n",
        " max_depth=5,\n",
        " min_child_weight=1,\n",
        " gamma=0,\n",
        " subsample=0.8,\n",
        " colsample_bytree=0.8,\n",
        " objective= 'multi:softprob',\n",
        " tree_method='gpu_hist',\n",
        " nthread=4,\n",
        "#  scale_pos_weight=1,\n",
        " seed=27,\n",
        " num_class=7,\n",
        ")\n",
        "\n"
      ],
      "metadata": {
        "id": "JgIHaq1c6tAy"
      },
      "execution_count": null,
      "outputs": []
    },
    {
      "cell_type": "code",
      "source": [
        "modelfit(my_model, train_X, train_y,verbose_eval=100)"
      ],
      "metadata": {
        "colab": {
          "base_uri": "https://localhost:8080/"
        },
        "id": "d3fQ5DFJbgoD",
        "outputId": "bb707f8f-7c8a-4557-c7ef-b3a384cf5ea6"
      },
      "execution_count": null,
      "outputs": [
        {
          "output_type": "stream",
          "name": "stdout",
          "text": [
            "[0]\ttrain-auc:0.99911+0.00007\ttest-auc:0.99909+0.00009\n",
            "[100]\ttrain-auc:0.99992+0.00000\ttest-auc:0.99983+0.00001\n",
            "[200]\ttrain-auc:0.99997+0.00000\ttest-auc:0.99984+0.00001\n",
            "[284]\ttrain-auc:0.99998+0.00000\ttest-auc:0.99984+0.00001\n",
            "\n",
            "Model Report\n",
            "Accuracy : 0.9967455357142857\n"
          ]
        }
      ]
    },
    {
      "cell_type": "markdown",
      "source": [
        "## Check Score"
      ],
      "metadata": {
        "id": "96KZYz300HLo"
      }
    },
    {
      "cell_type": "code",
      "source": [
        "y_test_pred = my_model.predict(test_X)"
      ],
      "metadata": {
        "id": "42yDBPa965Md"
      },
      "execution_count": null,
      "outputs": []
    },
    {
      "cell_type": "code",
      "source": [
        "score = my_model.score(test_X, test_y)\n",
        "print(\"test score: \", score)"
      ],
      "metadata": {
        "colab": {
          "base_uri": "https://localhost:8080/"
        },
        "id": "_hegWG-u77sh",
        "outputId": "6acff957-f7a3-4e38-fc44-ea4767cac5ff"
      },
      "execution_count": null,
      "outputs": [
        {
          "output_type": "stream",
          "name": "stdout",
          "text": [
            "test score:  0.9946428571428572\n"
          ]
        }
      ]
    },
    {
      "cell_type": "code",
      "source": [
        "score = my_model.score(train_X,train_y)\n",
        "print(\"Training score: \", score)"
      ],
      "metadata": {
        "colab": {
          "base_uri": "https://localhost:8080/"
        },
        "id": "xHK3L6Bb_-dc",
        "outputId": "8b19fb25-ff39-4156-e758-c8a7c91b45d8"
      },
      "execution_count": null,
      "outputs": [
        {
          "output_type": "stream",
          "name": "stdout",
          "text": [
            "Training score:  0.9967455357142857\n"
          ]
        }
      ]
    },
    {
      "cell_type": "markdown",
      "source": [
        "## Save"
      ],
      "metadata": {
        "id": "gokDtUmrz0sr"
      }
    },
    {
      "cell_type": "code",
      "source": [
        "path=make_path_file(DATA,'predictions',\"xgb\")\n",
        "my_model.save_model(path)"
      ],
      "metadata": {
        "id": "vmX_5WGrvRoa"
      },
      "execution_count": null,
      "outputs": []
    },
    {
      "cell_type": "markdown",
      "source": [
        "## Load"
      ],
      "metadata": {
        "id": "4ljPNbE_zrGX"
      }
    },
    {
      "cell_type": "code",
      "source": [
        "path=make_path_file(DATA,'predictions',\"xgb\")\n",
        "my_model1 = XGBClassifier()\n",
        "my_model1.load_model(path)"
      ],
      "metadata": {
        "id": "nkOd0_9czJpd"
      },
      "execution_count": null,
      "outputs": []
    },
    {
      "cell_type": "code",
      "source": [
        "from sklearn.metrics import classification_report\n",
        "score = my_model1.score(test_X, test_y)\n",
        "print(\"test score: \", score)\n",
        "pred=my_model1.predict(test_X)\n",
        "print(classification_report(test_y, pred))"
      ],
      "metadata": {
        "id": "Lx8EVWgc0aSX",
        "outputId": "4c680e80-6755-40b5-9c35-e659eecde570",
        "colab": {
          "base_uri": "https://localhost:8080/"
        }
      },
      "execution_count": null,
      "outputs": [
        {
          "output_type": "stream",
          "name": "stdout",
          "text": [
            "test score:  0.9946428571428572\n",
            "              precision    recall  f1-score   support\n",
            "\n",
            "           0       0.99      0.97      0.98      8085\n",
            "           1       1.00      1.00      1.00      7983\n",
            "           2       1.00      1.00      1.00      7954\n",
            "           3       0.97      0.99      0.98      7941\n",
            "           4       1.00      1.00      1.00      7971\n",
            "           5       1.00      1.00      1.00      8092\n",
            "           6       1.00      1.00      1.00      7974\n",
            "\n",
            "    accuracy                           0.99     56000\n",
            "   macro avg       0.99      0.99      0.99     56000\n",
            "weighted avg       0.99      0.99      0.99     56000\n",
            "\n"
          ]
        }
      ]
    },
    {
      "cell_type": "code",
      "source": [
        "pred=my_model1.predict(test_X)\n",
        "pred"
      ],
      "metadata": {
        "colab": {
          "base_uri": "https://localhost:8080/"
        },
        "id": "dU_MPH6hEtbM",
        "outputId": "680cea55-a81e-49f4-f34c-0e6ec28b3bff"
      },
      "execution_count": null,
      "outputs": [
        {
          "output_type": "execute_result",
          "data": {
            "text/plain": [
              "array([0, 0, 0, ..., 6, 6, 6])"
            ]
          },
          "metadata": {},
          "execution_count": 16
        }
      ]
    },
    {
      "cell_type": "code",
      "source": [
        "from sklearn.metrics import classification_report\n",
        "pred[pred > 0] = 1\n",
        "test_y[test_y>0]=1\n",
        "print(classification_report(test_y, pred))"
      ],
      "metadata": {
        "colab": {
          "base_uri": "https://localhost:8080/"
        },
        "id": "nm10CVN5FDaR",
        "outputId": "4e6b8ded-9141-4f7f-d9c2-cb23d3c7821f"
      },
      "execution_count": null,
      "outputs": [
        {
          "output_type": "stream",
          "name": "stdout",
          "text": [
            "              precision    recall  f1-score   support\n",
            "\n",
            "           0       0.99      0.97      0.98      8085\n",
            "           1       1.00      1.00      1.00     47915\n",
            "\n",
            "    accuracy                           1.00     56000\n",
            "   macro avg       0.99      0.99      0.99     56000\n",
            "weighted avg       1.00      1.00      1.00     56000\n",
            "\n"
          ]
        }
      ]
    },
    {
      "cell_type": "markdown",
      "source": [
        "# Logistic Regression"
      ],
      "metadata": {
        "id": "U4PcNmU4wqBr"
      }
    },
    {
      "cell_type": "code",
      "source": [
        "mmodel = LogisticRegression(solver='saga')\n",
        "mmodel.fit(train_X, train_y)"
      ],
      "metadata": {
        "colab": {
          "base_uri": "https://localhost:8080/",
          "height": 75
        },
        "id": "_VNYv6kIwyiZ",
        "outputId": "9aca1f0e-485a-4ac9-fb23-e7011b4219cb"
      },
      "execution_count": null,
      "outputs": [
        {
          "output_type": "execute_result",
          "data": {
            "text/plain": [
              "LogisticRegression(solver='saga')"
            ],
            "text/html": [
              "<style>#sk-container-id-1 {color: black;background-color: white;}#sk-container-id-1 pre{padding: 0;}#sk-container-id-1 div.sk-toggleable {background-color: white;}#sk-container-id-1 label.sk-toggleable__label {cursor: pointer;display: block;width: 100%;margin-bottom: 0;padding: 0.3em;box-sizing: border-box;text-align: center;}#sk-container-id-1 label.sk-toggleable__label-arrow:before {content: \"▸\";float: left;margin-right: 0.25em;color: #696969;}#sk-container-id-1 label.sk-toggleable__label-arrow:hover:before {color: black;}#sk-container-id-1 div.sk-estimator:hover label.sk-toggleable__label-arrow:before {color: black;}#sk-container-id-1 div.sk-toggleable__content {max-height: 0;max-width: 0;overflow: hidden;text-align: left;background-color: #f0f8ff;}#sk-container-id-1 div.sk-toggleable__content pre {margin: 0.2em;color: black;border-radius: 0.25em;background-color: #f0f8ff;}#sk-container-id-1 input.sk-toggleable__control:checked~div.sk-toggleable__content {max-height: 200px;max-width: 100%;overflow: auto;}#sk-container-id-1 input.sk-toggleable__control:checked~label.sk-toggleable__label-arrow:before {content: \"▾\";}#sk-container-id-1 div.sk-estimator input.sk-toggleable__control:checked~label.sk-toggleable__label {background-color: #d4ebff;}#sk-container-id-1 div.sk-label input.sk-toggleable__control:checked~label.sk-toggleable__label {background-color: #d4ebff;}#sk-container-id-1 input.sk-hidden--visually {border: 0;clip: rect(1px 1px 1px 1px);clip: rect(1px, 1px, 1px, 1px);height: 1px;margin: -1px;overflow: hidden;padding: 0;position: absolute;width: 1px;}#sk-container-id-1 div.sk-estimator {font-family: monospace;background-color: #f0f8ff;border: 1px dotted black;border-radius: 0.25em;box-sizing: border-box;margin-bottom: 0.5em;}#sk-container-id-1 div.sk-estimator:hover {background-color: #d4ebff;}#sk-container-id-1 div.sk-parallel-item::after {content: \"\";width: 100%;border-bottom: 1px solid gray;flex-grow: 1;}#sk-container-id-1 div.sk-label:hover label.sk-toggleable__label {background-color: #d4ebff;}#sk-container-id-1 div.sk-serial::before {content: \"\";position: absolute;border-left: 1px solid gray;box-sizing: border-box;top: 0;bottom: 0;left: 50%;z-index: 0;}#sk-container-id-1 div.sk-serial {display: flex;flex-direction: column;align-items: center;background-color: white;padding-right: 0.2em;padding-left: 0.2em;position: relative;}#sk-container-id-1 div.sk-item {position: relative;z-index: 1;}#sk-container-id-1 div.sk-parallel {display: flex;align-items: stretch;justify-content: center;background-color: white;position: relative;}#sk-container-id-1 div.sk-item::before, #sk-container-id-1 div.sk-parallel-item::before {content: \"\";position: absolute;border-left: 1px solid gray;box-sizing: border-box;top: 0;bottom: 0;left: 50%;z-index: -1;}#sk-container-id-1 div.sk-parallel-item {display: flex;flex-direction: column;z-index: 1;position: relative;background-color: white;}#sk-container-id-1 div.sk-parallel-item:first-child::after {align-self: flex-end;width: 50%;}#sk-container-id-1 div.sk-parallel-item:last-child::after {align-self: flex-start;width: 50%;}#sk-container-id-1 div.sk-parallel-item:only-child::after {width: 0;}#sk-container-id-1 div.sk-dashed-wrapped {border: 1px dashed gray;margin: 0 0.4em 0.5em 0.4em;box-sizing: border-box;padding-bottom: 0.4em;background-color: white;}#sk-container-id-1 div.sk-label label {font-family: monospace;font-weight: bold;display: inline-block;line-height: 1.2em;}#sk-container-id-1 div.sk-label-container {text-align: center;}#sk-container-id-1 div.sk-container {/* jupyter's `normalize.less` sets `[hidden] { display: none; }` but bootstrap.min.css set `[hidden] { display: none !important; }` so we also need the `!important` here to be able to override the default hidden behavior on the sphinx rendered scikit-learn.org. See: https://github.com/scikit-learn/scikit-learn/issues/21755 */display: inline-block !important;position: relative;}#sk-container-id-1 div.sk-text-repr-fallback {display: none;}</style><div id=\"sk-container-id-1\" class=\"sk-top-container\"><div class=\"sk-text-repr-fallback\"><pre>LogisticRegression(solver=&#x27;saga&#x27;)</pre><b>In a Jupyter environment, please rerun this cell to show the HTML representation or trust the notebook. <br />On GitHub, the HTML representation is unable to render, please try loading this page with nbviewer.org.</b></div><div class=\"sk-container\" hidden><div class=\"sk-item\"><div class=\"sk-estimator sk-toggleable\"><input class=\"sk-toggleable__control sk-hidden--visually\" id=\"sk-estimator-id-1\" type=\"checkbox\" checked><label for=\"sk-estimator-id-1\" class=\"sk-toggleable__label sk-toggleable__label-arrow\">LogisticRegression</label><div class=\"sk-toggleable__content\"><pre>LogisticRegression(solver=&#x27;saga&#x27;)</pre></div></div></div></div></div>"
            ]
          },
          "metadata": {},
          "execution_count": 23
        }
      ]
    },
    {
      "cell_type": "code",
      "source": [
        "score = mmodel.score(train_X,train_y)\n",
        "print(\"Training score: \", score)"
      ],
      "metadata": {
        "colab": {
          "base_uri": "https://localhost:8080/"
        },
        "id": "VluOY_zDyNrc",
        "outputId": "40b0203e-0127-49f8-fb33-aaac1ecd4547"
      },
      "execution_count": null,
      "outputs": [
        {
          "output_type": "stream",
          "name": "stdout",
          "text": [
            "Training score:  0.9946517857142857\n"
          ]
        }
      ]
    },
    {
      "cell_type": "code",
      "source": [
        "score = mmodel.score(test_X, test_y)\n",
        "print(\"test score: \", score)"
      ],
      "metadata": {
        "colab": {
          "base_uri": "https://localhost:8080/"
        },
        "id": "Pa6n76qDyTEz",
        "outputId": "19db4728-267e-49cf-e757-88c5bffc39a9"
      },
      "execution_count": null,
      "outputs": [
        {
          "output_type": "stream",
          "name": "stdout",
          "text": [
            "test score:  0.9948571428571429\n"
          ]
        }
      ]
    },
    {
      "cell_type": "markdown",
      "source": [
        "# Soft vote"
      ],
      "metadata": {
        "id": "92cj7f8UzPov"
      }
    },
    {
      "cell_type": "code",
      "source": [
        "X1_test=test_X[:,range(7)]\n",
        "Y1_test=X1_test.argmax(axis=1)"
      ],
      "metadata": {
        "id": "ru4bogzjzUuJ"
      },
      "execution_count": null,
      "outputs": []
    },
    {
      "cell_type": "code",
      "source": [
        "accuracy_score(test_y, Y1_test)"
      ],
      "metadata": {
        "colab": {
          "base_uri": "https://localhost:8080/"
        },
        "id": "czOmQY-B5zqj",
        "outputId": "bad3c86d-6441-4e26-f1a1-7a3dca73d152"
      },
      "execution_count": null,
      "outputs": [
        {
          "output_type": "execute_result",
          "data": {
            "text/plain": [
              "0.9955892857142857"
            ]
          },
          "metadata": {},
          "execution_count": 36
        }
      ]
    },
    {
      "cell_type": "code",
      "source": [
        "X1_train=train_X[:,range(7)]\n",
        "Y1_train=X1_train.argmax(axis=1)"
      ],
      "metadata": {
        "id": "B-haEVEE6Y0H"
      },
      "execution_count": null,
      "outputs": []
    },
    {
      "cell_type": "code",
      "source": [
        "accuracy_score(train_y, Y1_train)"
      ],
      "metadata": {
        "colab": {
          "base_uri": "https://localhost:8080/"
        },
        "id": "My6arcFM6xkc",
        "outputId": "5f51904f-3f86-4afd-ec7f-67ea4cdf6369"
      },
      "execution_count": null,
      "outputs": [
        {
          "output_type": "execute_result",
          "data": {
            "text/plain": [
              "0.9946517857142857"
            ]
          },
          "metadata": {},
          "execution_count": 38
        }
      ]
    },
    {
      "cell_type": "code",
      "source": [
        "def get_accuracy(y, pred):\n",
        "  y_pred=pred.argmax(axis=1)\n",
        "  return accuracy_score(y, y_pred)\n",
        "\n",
        "def get_X_for_model(X,i, num_classes):\n",
        "  start=i*num_classes\n",
        "  end=start+num_classes\n",
        "  return X[:,range(start,end)]\n",
        "\n",
        "def soft_vote(X,y, num_models=3, num_classes=5):\n",
        "  list=[get_X_for_model(X,i, num_classes) for i in range(num_models)]\n",
        "  for i,pred in enumerate(list):\n",
        "    print(f'Accuracy for {i}: {get_accuracy(y, pred)}')\n",
        "  pred=sum(list)\n",
        "  print(f'Soft vote accuracy={get_accuracy(y, pred)}')"
      ],
      "metadata": {
        "id": "eZyU69k-YdRZ"
      },
      "execution_count": null,
      "outputs": []
    },
    {
      "cell_type": "code",
      "source": [
        "soft_vote(test_X,test_y, num_classes=7)"
      ],
      "metadata": {
        "colab": {
          "base_uri": "https://localhost:8080/"
        },
        "id": "HMZZH-77Zncd",
        "outputId": "90eb0820-50a4-4084-f2bf-d5419806ed2b"
      },
      "execution_count": null,
      "outputs": [
        {
          "output_type": "stream",
          "name": "stdout",
          "text": [
            "Accuracy for 0: 0.9955892857142857\n",
            "Accuracy for 1: 0.9958928571428571\n",
            "Accuracy for 2: 0.9953214285714286\n",
            "Soft vote accuracy=0.99575\n"
          ]
        }
      ]
    },
    {
      "cell_type": "markdown",
      "source": [
        "# Hard vote"
      ],
      "metadata": {
        "id": "ZVqTS7Ixc2Y9"
      }
    },
    {
      "cell_type": "code",
      "source": [
        "def hard_vote(X,y, num_models=3, num_classes=5):\n",
        "   list=[get_X_for_model(X,i, num_classes) for i in range(num_models)]\n",
        "   for i,pred in enumerate(list):\n",
        "     print(f'Accuracy for {i}: {get_accuracy(y, pred)}')\n",
        "   pred_list=[p.argmax(axis=1) for p in list]\n",
        "   pred_array=np.vstack(pred_list).transpose()\n",
        "   pred= mode(pred_array, axis=-1)[0].flatten()\n",
        "   print(f'Hard vote accuracy={accuracy_score(y, pred)}')\n",
        "   print(pred.shape,y.shape)\n",
        "   return pred_array, pred_list\n"
      ],
      "metadata": {
        "id": "zlpj9wvUZt9c"
      },
      "execution_count": null,
      "outputs": []
    },
    {
      "cell_type": "code",
      "source": [
        "pred_array, pred_list=hard_vote(test_X,test_y, num_classes=7)"
      ],
      "metadata": {
        "colab": {
          "base_uri": "https://localhost:8080/"
        },
        "id": "QtLA8MZZdTXO",
        "outputId": "0189eb66-fbd6-43ea-ea14-2007e536d1d9"
      },
      "execution_count": null,
      "outputs": [
        {
          "output_type": "stream",
          "name": "stdout",
          "text": [
            "Accuracy for 0: 0.9955892857142857\n",
            "Accuracy for 1: 0.9958928571428571\n",
            "Accuracy for 2: 0.9953214285714286\n"
          ]
        },
        {
          "output_type": "stream",
          "name": "stderr",
          "text": [
            "<ipython-input-40-200845f35c93>:7: FutureWarning: Unlike other reduction functions (e.g. `skew`, `kurtosis`), the default behavior of `mode` typically preserves the axis it acts along. In SciPy 1.11.0, this behavior will change: the default value of `keepdims` will become False, the `axis` over which the statistic is taken will be eliminated, and the value None will no longer be accepted. Set `keepdims` to True or False to avoid this warning.\n",
            "  pred= mode(pred_array, axis=-1)[0].flatten()\n"
          ]
        },
        {
          "output_type": "stream",
          "name": "stdout",
          "text": [
            "Hard vote accuracy=0.99575\n",
            "(56000,) (56000,)\n"
          ]
        }
      ]
    },
    {
      "cell_type": "code",
      "source": [
        "idx=15284"
      ],
      "metadata": {
        "id": "UTt-y4N6lvt3"
      },
      "execution_count": null,
      "outputs": []
    },
    {
      "cell_type": "code",
      "source": [
        "pred_array[idx]"
      ],
      "metadata": {
        "id": "GzMFDdsXl-cf"
      },
      "execution_count": null,
      "outputs": []
    },
    {
      "cell_type": "code",
      "source": [
        "pred_array.shape"
      ],
      "metadata": {
        "id": "3dZ5Qo4Onm9g"
      },
      "execution_count": null,
      "outputs": []
    },
    {
      "cell_type": "code",
      "source": [
        "[pred_list[i][idx] for i in range(3)]"
      ],
      "metadata": {
        "id": "dkInhNTceU09"
      },
      "execution_count": null,
      "outputs": []
    },
    {
      "cell_type": "code",
      "source": [
        "test_y[15284]"
      ],
      "metadata": {
        "id": "ugKoG7D5lkNy"
      },
      "execution_count": null,
      "outputs": []
    },
    {
      "cell_type": "code",
      "source": [
        "np.nonzero(test_y)"
      ],
      "metadata": {
        "id": "SnYEe6z4kLg1"
      },
      "execution_count": null,
      "outputs": []
    }
  ]
}